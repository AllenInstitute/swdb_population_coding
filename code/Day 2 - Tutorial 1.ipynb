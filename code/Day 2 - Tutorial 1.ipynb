{
 "cells": [
  {
   "cell_type": "markdown",
   "metadata": {},
   "source": [
    "# SWDB - Day 2, Tutorial 1\n",
    "\n",
    "## Population-Level Decoding: Part 1\n",
    "\n",
    "In this tutorial, we will introduce the Allen Brain Observatory Neuropixels dataset, and use it to extract information about stimulus identity from neural populations. We will focus on activity in V1 (Allen CCF acronym: `VISp`) and drifting gratings stimuli, but the methods will generalize to other areas and stimulus types.\n",
    "\n",
    "We start by importing the packages we'll need."
   ]
  },
  {
   "cell_type": "code",
   "execution_count": 2,
   "metadata": {},
   "outputs": [],
   "source": [
    "import numpy as np\n",
    "import pandas as pd\n",
    "\n",
    "import matplotlib.pyplot as plt\n",
    "%matplotlib inline\n",
    "\n",
    "from allensdk.brain_observatory.ecephys.ecephys_project_cache import EcephysProjectCache\n",
    "\n",
    "import warnings\n",
    "warnings.filterwarnings(\"ignore\")"
   ]
  },
  {
   "cell_type": "markdown",
   "metadata": {},
   "source": [
    "We will access the data via the AllenSDK. It's a good idea to first check which version you have installed, in case some of the functions are not working properly:"
   ]
  },
  {
   "cell_type": "code",
   "execution_count": 3,
   "metadata": {},
   "outputs": [
    {
     "data": {
      "text/plain": [
       "'2.15.1'"
      ]
     },
     "execution_count": 3,
     "metadata": {},
     "output_type": "execute_result"
    }
   ],
   "source": [
    "import allensdk\n",
    "\n",
    "allensdk.__version__"
   ]
  },
  {
   "cell_type": "markdown",
   "metadata": {},
   "source": [
    "### Exploring the Neuropixels Visual Coding dataset\n",
    "\n",
    "The Allen Brain Observatory Neuropixels Visual Coding dataset consists of 58 passive viewing sessions that use many of the same stimuli as the 2P Visual Coding experiments we learned about yesterday. Instead of using 2P imaging to monitor calcium-dependent fluorescence signals, these experiments use acutely implanted Neuropixels probes to record spiking activity. This makes it possible to sample neural activity with 1000x higher temporal resolution across multiple cortical and subcortical regions in parallel. However, unlike with 2P imaging, it is impossible to return to the same neurons across multiple sessions or easily record from genetically defined sub-populations.\n",
    "\n",
    "The data is made accessible via an `EcephysProjectCache` object. If you're analyzing data on a local machine, this object will keep track of which files you have downloaded, and retrieve additional files as needed. In this case, we're doing our analysis in the cloud, and the public S3 bucket containing all of the data files is already mounted. So we just need to make sure the `EcephysProjectCache` object is aware of the location where the data is stored:"
   ]
  },
  {
   "cell_type": "code",
   "execution_count": 4,
   "metadata": {},
   "outputs": [],
   "source": [
    "manifest_path = '/data/allen-brain-observatory/visual-coding-neuropixels/ecephys-cache/manifest.json' \n",
    "\n",
    "cache = EcephysProjectCache.from_warehouse(manifest=manifest_path)"
   ]
  },
  {
   "cell_type": "markdown",
   "metadata": {},
   "source": [
    "We can use the `cache` object to retrieve a table containing information about all of the experimental sessions:"
   ]
  },
  {
   "cell_type": "code",
   "execution_count": 5,
   "metadata": {},
   "outputs": [
    {
     "data": {
      "text/html": [
       "<div>\n",
       "<style scoped>\n",
       "    .dataframe tbody tr th:only-of-type {\n",
       "        vertical-align: middle;\n",
       "    }\n",
       "\n",
       "    .dataframe tbody tr th {\n",
       "        vertical-align: top;\n",
       "    }\n",
       "\n",
       "    .dataframe thead th {\n",
       "        text-align: right;\n",
       "    }\n",
       "</style>\n",
       "<table border=\"1\" class=\"dataframe\">\n",
       "  <thead>\n",
       "    <tr style=\"text-align: right;\">\n",
       "      <th></th>\n",
       "      <th>published_at</th>\n",
       "      <th>specimen_id</th>\n",
       "      <th>session_type</th>\n",
       "      <th>age_in_days</th>\n",
       "      <th>sex</th>\n",
       "      <th>full_genotype</th>\n",
       "      <th>unit_count</th>\n",
       "      <th>channel_count</th>\n",
       "      <th>probe_count</th>\n",
       "      <th>ecephys_structure_acronyms</th>\n",
       "    </tr>\n",
       "    <tr>\n",
       "      <th>id</th>\n",
       "      <th></th>\n",
       "      <th></th>\n",
       "      <th></th>\n",
       "      <th></th>\n",
       "      <th></th>\n",
       "      <th></th>\n",
       "      <th></th>\n",
       "      <th></th>\n",
       "      <th></th>\n",
       "      <th></th>\n",
       "    </tr>\n",
       "  </thead>\n",
       "  <tbody>\n",
       "    <tr>\n",
       "      <th>715093703</th>\n",
       "      <td>2019-10-03T00:00:00Z</td>\n",
       "      <td>699733581</td>\n",
       "      <td>brain_observatory_1.1</td>\n",
       "      <td>118.0</td>\n",
       "      <td>M</td>\n",
       "      <td>Sst-IRES-Cre/wt;Ai32(RCL-ChR2(H134R)_EYFP)/wt</td>\n",
       "      <td>884</td>\n",
       "      <td>2219</td>\n",
       "      <td>6</td>\n",
       "      <td>[CA1, VISrl, nan, PO, LP, LGd, CA3, DG, VISl, ...</td>\n",
       "    </tr>\n",
       "    <tr>\n",
       "      <th>719161530</th>\n",
       "      <td>2019-10-03T00:00:00Z</td>\n",
       "      <td>703279284</td>\n",
       "      <td>brain_observatory_1.1</td>\n",
       "      <td>122.0</td>\n",
       "      <td>M</td>\n",
       "      <td>Sst-IRES-Cre/wt;Ai32(RCL-ChR2(H134R)_EYFP)/wt</td>\n",
       "      <td>755</td>\n",
       "      <td>2214</td>\n",
       "      <td>6</td>\n",
       "      <td>[TH, Eth, APN, POL, LP, DG, CA1, VISpm, nan, N...</td>\n",
       "    </tr>\n",
       "    <tr>\n",
       "      <th>721123822</th>\n",
       "      <td>2019-10-03T00:00:00Z</td>\n",
       "      <td>707296982</td>\n",
       "      <td>brain_observatory_1.1</td>\n",
       "      <td>125.0</td>\n",
       "      <td>M</td>\n",
       "      <td>Pvalb-IRES-Cre/wt;Ai32(RCL-ChR2(H134R)_EYFP)/wt</td>\n",
       "      <td>444</td>\n",
       "      <td>2229</td>\n",
       "      <td>6</td>\n",
       "      <td>[MB, SCig, PPT, NOT, DG, CA1, VISam, nan, LP, ...</td>\n",
       "    </tr>\n",
       "    <tr>\n",
       "      <th>732592105</th>\n",
       "      <td>2019-10-03T00:00:00Z</td>\n",
       "      <td>717038288</td>\n",
       "      <td>brain_observatory_1.1</td>\n",
       "      <td>100.0</td>\n",
       "      <td>M</td>\n",
       "      <td>wt/wt</td>\n",
       "      <td>824</td>\n",
       "      <td>1847</td>\n",
       "      <td>5</td>\n",
       "      <td>[grey, VISpm, nan, VISp, VISl, VISal, VISrl]</td>\n",
       "    </tr>\n",
       "    <tr>\n",
       "      <th>737581020</th>\n",
       "      <td>2019-10-03T00:00:00Z</td>\n",
       "      <td>718643567</td>\n",
       "      <td>brain_observatory_1.1</td>\n",
       "      <td>108.0</td>\n",
       "      <td>M</td>\n",
       "      <td>wt/wt</td>\n",
       "      <td>568</td>\n",
       "      <td>2218</td>\n",
       "      <td>6</td>\n",
       "      <td>[grey, VISmma, nan, VISpm, VISp, VISl, VISrl]</td>\n",
       "    </tr>\n",
       "  </tbody>\n",
       "</table>\n",
       "</div>"
      ],
      "text/plain": [
       "                   published_at  specimen_id           session_type  \\\n",
       "id                                                                    \n",
       "715093703  2019-10-03T00:00:00Z    699733581  brain_observatory_1.1   \n",
       "719161530  2019-10-03T00:00:00Z    703279284  brain_observatory_1.1   \n",
       "721123822  2019-10-03T00:00:00Z    707296982  brain_observatory_1.1   \n",
       "732592105  2019-10-03T00:00:00Z    717038288  brain_observatory_1.1   \n",
       "737581020  2019-10-03T00:00:00Z    718643567  brain_observatory_1.1   \n",
       "\n",
       "           age_in_days sex                                    full_genotype  \\\n",
       "id                                                                            \n",
       "715093703        118.0   M    Sst-IRES-Cre/wt;Ai32(RCL-ChR2(H134R)_EYFP)/wt   \n",
       "719161530        122.0   M    Sst-IRES-Cre/wt;Ai32(RCL-ChR2(H134R)_EYFP)/wt   \n",
       "721123822        125.0   M  Pvalb-IRES-Cre/wt;Ai32(RCL-ChR2(H134R)_EYFP)/wt   \n",
       "732592105        100.0   M                                            wt/wt   \n",
       "737581020        108.0   M                                            wt/wt   \n",
       "\n",
       "           unit_count  channel_count  probe_count  \\\n",
       "id                                                  \n",
       "715093703         884           2219            6   \n",
       "719161530         755           2214            6   \n",
       "721123822         444           2229            6   \n",
       "732592105         824           1847            5   \n",
       "737581020         568           2218            6   \n",
       "\n",
       "                                  ecephys_structure_acronyms  \n",
       "id                                                            \n",
       "715093703  [CA1, VISrl, nan, PO, LP, LGd, CA3, DG, VISl, ...  \n",
       "719161530  [TH, Eth, APN, POL, LP, DG, CA1, VISpm, nan, N...  \n",
       "721123822  [MB, SCig, PPT, NOT, DG, CA1, VISam, nan, LP, ...  \n",
       "732592105       [grey, VISpm, nan, VISp, VISl, VISal, VISrl]  \n",
       "737581020      [grey, VISmma, nan, VISpm, VISp, VISl, VISrl]  "
      ]
     },
     "execution_count": 5,
     "metadata": {},
     "output_type": "execute_result"
    }
   ],
   "source": [
    "sessions = cache.get_session_table()\n",
    "\n",
    "sessions.head()"
   ]
  },
  {
   "cell_type": "markdown",
   "metadata": {},
   "source": [
    "Each session is indexed by a unique `id`, and has other columns with information about the subject, session type, etc.\n",
    "\n",
    "We can examine at a single row to see what information is available about each session:"
   ]
  },
  {
   "cell_type": "code",
   "execution_count": 7,
   "metadata": {},
   "outputs": [
    {
     "data": {
      "text/plain": [
       "published_at                                               2019-10-03T00:00:00Z\n",
       "specimen_id                                                           699733581\n",
       "session_type                                              brain_observatory_1.1\n",
       "age_in_days                                                               118.0\n",
       "sex                                                                           M\n",
       "full_genotype                     Sst-IRES-Cre/wt;Ai32(RCL-ChR2(H134R)_EYFP)/wt\n",
       "unit_count                                                                  884\n",
       "channel_count                                                              2219\n",
       "probe_count                                                                   6\n",
       "ecephys_structure_acronyms    [CA1, VISrl, nan, PO, LP, LGd, CA3, DG, VISl, ...\n",
       "Name: 715093703, dtype: object"
      ]
     },
     "execution_count": 7,
     "metadata": {},
     "output_type": "execute_result"
    }
   ],
   "source": [
    "sessions.iloc[0]"
   ]
  },
  {
   "cell_type": "markdown",
   "metadata": {},
   "source": [
    "We have information about the subject (e.g. age, sex, genotype), as well as the total number of units recorded, and a list of structures they were recorded from. We use the term \"units\" instead of \"neurons\" because each unit may actually include spikes from multiple nearby neurons. The units that are returned by default are pre-filtered to remove those with high levels of contamination (based on the `isi_violations` metric), but they are  not guaranteed to all correspond to perfectly isolated neurons."
   ]
  },
  {
   "cell_type": "markdown",
   "metadata": {},
   "source": [
    "**Question:** How would you find all of the sessions that include recordings from a particular brain region (e.g. `LP` nucleus in the thalamus)?"
   ]
  },
  {
   "cell_type": "code",
   "execution_count": 8,
   "metadata": {},
   "outputs": [],
   "source": [
    "# enter code here"
   ]
  },
  {
   "cell_type": "markdown",
   "metadata": {},
   "source": [
    "One of the most important things to consider about each session is the `session_type`, of which there are two in the Neuropixels Visual Coding dataset:"
   ]
  },
  {
   "cell_type": "code",
   "execution_count": 9,
   "metadata": {},
   "outputs": [
    {
     "data": {
      "text/plain": [
       "array(['brain_observatory_1.1', 'functional_connectivity'], dtype=object)"
      ]
     },
     "execution_count": 9,
     "metadata": {},
     "output_type": "execute_result"
    }
   ],
   "source": [
    "sessions.session_type.unique()"
   ]
  },
  {
   "cell_type": "markdown",
   "metadata": {},
   "source": [
    "The two session types differ in the visual stimuli that were used. `brain_observatory_1.1` sessions include many of the same stimuli that were shown in the 2P Visual Coding experiments, to facilitate direct comparisons between these two data modalities. `functional_connectivity` sessions use similar stimuli but with fewer conditions and more repeats, to facilitate analysis of cross-area interactions. \n",
    "\n",
    "A timeline of each session type is available in the Neuropixels Cheat Sheet PDF, and is also reproduced here:\n",
    "\n",
    "![Diagram of stimuli for each session type](neuropixels_visual_stimuli-2.png)"
   ]
  },
  {
   "cell_type": "markdown",
   "metadata": {},
   "source": [
    "For this tutorial, we are going to use the \"Brain Observatory 1.1\" sessions, which include the identical drifting grating stimulus as the 2P experiments.\n",
    "\n",
    "In order to select the specific session we want to analyze, we can examine some pre-computed unit metrics:"
   ]
  },
  {
   "cell_type": "code",
   "execution_count": 10,
   "metadata": {},
   "outputs": [
    {
     "data": {
      "text/plain": [
       "['c50_dg',\n",
       " 'fano_dg',\n",
       " 'f1_f0_dg',\n",
       " 'g_dsi_dg',\n",
       " 'g_osi_dg',\n",
       " 'mod_idx_dg',\n",
       " 'pref_tf_dg',\n",
       " 'run_mod_dg',\n",
       " 'pref_ori_dg',\n",
       " 'run_pval_dg',\n",
       " 'firing_rate_dg',\n",
       " 'pref_tf_multi_dg',\n",
       " 'pref_ori_multi_dg',\n",
       " 'lifetime_sparseness_dg']"
      ]
     },
     "execution_count": 10,
     "metadata": {},
     "output_type": "execute_result"
    }
   ],
   "source": [
    "unit_metrics = cache.get_unit_analysis_metrics_by_session_type('brain_observatory_1.1')\n",
    "\n",
    "dg_metrics = [k for k in unit_metrics.keys() if 'dg' in k]\n",
    "dg_metrics"
   ]
  },
  {
   "cell_type": "markdown",
   "metadata": {},
   "source": [
    "There are 14 different metrics for the drifting gratings (`dg`) stimulus type, which have been computed for all units in this dataset. Let's use the `g_dsi_dg` metric to find sessions with a high number of units in V1 that are selective for grating direction. `g_dsi` is the acronym for \"global direction selectivity index,\" which is a measure of how much a neuron is tuned to a single grating direction (this is related to how informative its spikes will be about the particular grating being presented).\n",
    "\n",
    "First, we need to find the IDs for all of the relevant sessions:"
   ]
  },
  {
   "cell_type": "code",
   "execution_count": 11,
   "metadata": {},
   "outputs": [
    {
     "data": {
      "text/plain": [
       "array([732592105, 721123822, 715093703, 763673393, 719161530, 742951821,\n",
       "       743475441, 791319847, 797828357, 799864342, 798911424, 759883607,\n",
       "       754829445, 744228101, 760693773, 773418906, 754312389, 739448407,\n",
       "       757216464, 756029989, 750332458, 757970808, 760345702, 755434585,\n",
       "       762602078, 750749662, 737581020, 762120172, 751348571, 746083955,\n",
       "       761418226, 758798717])"
      ]
     },
     "execution_count": 11,
     "metadata": {},
     "output_type": "execute_result"
    }
   ],
   "source": [
    "unique_sessions = unit_metrics.ecephys_session_id.unique()\n",
    "unique_sessions"
   ]
  },
  {
   "cell_type": "markdown",
   "metadata": {},
   "source": [
    "Each session has a 9-digit ID that serves as a unique identifier. We can use these to loop through all of the sessions and plot the distribution of `g_dsi_dg` for all units in V1:"
   ]
  },
  {
   "cell_type": "code",
   "execution_count": 12,
   "metadata": {},
   "outputs": [
    {
     "data": {
      "image/png": "[encoded data removed]",
      "text/plain": [
       "<Figure size 720x360 with 32 Axes>"
      ]
     },
     "metadata": {
      "needs_background": "light"
     },
     "output_type": "display_data"
    }
   ],
   "source": [
    "plt.figure(figsize=(10,5))\n",
    "\n",
    "for session_index, ecephys_session_id in enumerate(unique_sessions):\n",
    "    \n",
    "    sub_df = unit_metrics[(unit_metrics.ecephys_session_id == ecephys_session_id) &\n",
    "                          (unit_metrics.ecephys_structure_acronym == 'VISp')]\n",
    "    \n",
    "    h, b = np.histogram(sub_df.g_dsi_dg, bins=np.linspace(0,1,10))\n",
    "    \n",
    "    plt.subplot(4,8,session_index + 1)\n",
    "    plt.fill_between(b[:-1],h)\n",
    "    plt.title(f'{session_index}: {len(sub_df)} units')\n",
    "    plt.xlim([0,1])\n",
    "    plt.ylim([0, np.max(h)])\n",
    "    \n",
    "    if session_index == 24:\n",
    "        plt.xlabel('g_dsi')\n",
    "        plt.ylabel('Count')\n",
    "    \n",
    "plt.tight_layout()"
   ]
  },
  {
   "cell_type": "markdown",
   "metadata": {},
   "source": [
    "Let's analyze session 10, which has a relatively high number of V1 units, some fraction of which display direction selectivity above 0.5. We can load the data for this session based on the unique session ID:"
   ]
  },
  {
   "cell_type": "code",
   "execution_count": 13,
   "metadata": {},
   "outputs": [],
   "source": [
    "session_id = unique_sessions[10]\n",
    "\n",
    "session = cache.get_session_data(session_id)"
   ]
  },
  {
   "cell_type": "markdown",
   "metadata": {},
   "source": [
    "### Loading data for one session\n",
    "\n",
    "The `session` object will serve as the interface to all of the data for this experiment, including the spike times, stimulus info, and behavioral data (e.g. running speed).\n",
    "\n",
    "First, we'll load a table of units for this session. Note that this step can sometimes be slow, since all of the spike times need to be loaded into memory."
   ]
  },
  {
   "cell_type": "code",
   "execution_count": 14,
   "metadata": {},
   "outputs": [
    {
     "data": {
      "text/html": [
       "<div>\n",
       "<style scoped>\n",
       "    .dataframe tbody tr th:only-of-type {\n",
       "        vertical-align: middle;\n",
       "    }\n",
       "\n",
       "    .dataframe tbody tr th {\n",
       "        vertical-align: top;\n",
       "    }\n",
       "\n",
       "    .dataframe thead th {\n",
       "        text-align: right;\n",
       "    }\n",
       "</style>\n",
       "<table border=\"1\" class=\"dataframe\">\n",
       "  <thead>\n",
       "    <tr style=\"text-align: right;\">\n",
       "      <th></th>\n",
       "      <th>waveform_PT_ratio</th>\n",
       "      <th>waveform_amplitude</th>\n",
       "      <th>amplitude_cutoff</th>\n",
       "      <th>cluster_id</th>\n",
       "      <th>cumulative_drift</th>\n",
       "      <th>d_prime</th>\n",
       "      <th>firing_rate</th>\n",
       "      <th>isi_violations</th>\n",
       "      <th>isolation_distance</th>\n",
       "      <th>L_ratio</th>\n",
       "      <th>...</th>\n",
       "      <th>ecephys_structure_id</th>\n",
       "      <th>ecephys_structure_acronym</th>\n",
       "      <th>anterior_posterior_ccf_coordinate</th>\n",
       "      <th>dorsal_ventral_ccf_coordinate</th>\n",
       "      <th>left_right_ccf_coordinate</th>\n",
       "      <th>probe_description</th>\n",
       "      <th>location</th>\n",
       "      <th>probe_sampling_rate</th>\n",
       "      <th>probe_lfp_sampling_rate</th>\n",
       "      <th>probe_has_lfp_data</th>\n",
       "    </tr>\n",
       "    <tr>\n",
       "      <th>unit_id</th>\n",
       "      <th></th>\n",
       "      <th></th>\n",
       "      <th></th>\n",
       "      <th></th>\n",
       "      <th></th>\n",
       "      <th></th>\n",
       "      <th></th>\n",
       "      <th></th>\n",
       "      <th></th>\n",
       "      <th></th>\n",
       "      <th></th>\n",
       "      <th></th>\n",
       "      <th></th>\n",
       "      <th></th>\n",
       "      <th></th>\n",
       "      <th></th>\n",
       "      <th></th>\n",
       "      <th></th>\n",
       "      <th></th>\n",
       "      <th></th>\n",
       "      <th></th>\n",
       "    </tr>\n",
       "  </thead>\n",
       "  <tbody>\n",
       "    <tr>\n",
       "      <th>951088679</th>\n",
       "      <td>0.620607</td>\n",
       "      <td>82.147455</td>\n",
       "      <td>0.023654</td>\n",
       "      <td>1</td>\n",
       "      <td>480.97</td>\n",
       "      <td>2.575648</td>\n",
       "      <td>7.429131</td>\n",
       "      <td>0.053350</td>\n",
       "      <td>51.364291</td>\n",
       "      <td>0.028062</td>\n",
       "      <td>...</td>\n",
       "      <td>215.0</td>\n",
       "      <td>APN</td>\n",
       "      <td>8328</td>\n",
       "      <td>3018</td>\n",
       "      <td>7095</td>\n",
       "      <td>probeA</td>\n",
       "      <td>See electrode locations</td>\n",
       "      <td>29999.965974</td>\n",
       "      <td>1249.998582</td>\n",
       "      <td>True</td>\n",
       "    </tr>\n",
       "    <tr>\n",
       "      <th>951088664</th>\n",
       "      <td>0.587044</td>\n",
       "      <td>78.399165</td>\n",
       "      <td>0.001739</td>\n",
       "      <td>0</td>\n",
       "      <td>427.07</td>\n",
       "      <td>3.085334</td>\n",
       "      <td>6.843864</td>\n",
       "      <td>0.033732</td>\n",
       "      <td>40.358293</td>\n",
       "      <td>0.051513</td>\n",
       "      <td>...</td>\n",
       "      <td>215.0</td>\n",
       "      <td>APN</td>\n",
       "      <td>8328</td>\n",
       "      <td>3018</td>\n",
       "      <td>7095</td>\n",
       "      <td>probeA</td>\n",
       "      <td>See electrode locations</td>\n",
       "      <td>29999.965974</td>\n",
       "      <td>1249.998582</td>\n",
       "      <td>True</td>\n",
       "    </tr>\n",
       "    <tr>\n",
       "      <th>951088734</th>\n",
       "      <td>0.560996</td>\n",
       "      <td>187.504005</td>\n",
       "      <td>0.001249</td>\n",
       "      <td>5</td>\n",
       "      <td>311.01</td>\n",
       "      <td>5.152564</td>\n",
       "      <td>1.418476</td>\n",
       "      <td>0.356931</td>\n",
       "      <td>56.950961</td>\n",
       "      <td>0.001292</td>\n",
       "      <td>...</td>\n",
       "      <td>215.0</td>\n",
       "      <td>APN</td>\n",
       "      <td>8316</td>\n",
       "      <td>2988</td>\n",
       "      <td>7099</td>\n",
       "      <td>probeA</td>\n",
       "      <td>See electrode locations</td>\n",
       "      <td>29999.965974</td>\n",
       "      <td>1249.998582</td>\n",
       "      <td>True</td>\n",
       "    </tr>\n",
       "    <tr>\n",
       "      <th>951088721</th>\n",
       "      <td>0.474457</td>\n",
       "      <td>196.741545</td>\n",
       "      <td>0.000059</td>\n",
       "      <td>4</td>\n",
       "      <td>355.17</td>\n",
       "      <td>4.295014</td>\n",
       "      <td>11.517381</td>\n",
       "      <td>0.000271</td>\n",
       "      <td>58.358552</td>\n",
       "      <td>0.020218</td>\n",
       "      <td>...</td>\n",
       "      <td>215.0</td>\n",
       "      <td>APN</td>\n",
       "      <td>8316</td>\n",
       "      <td>2988</td>\n",
       "      <td>7099</td>\n",
       "      <td>probeA</td>\n",
       "      <td>See electrode locations</td>\n",
       "      <td>29999.965974</td>\n",
       "      <td>1249.998582</td>\n",
       "      <td>True</td>\n",
       "    </tr>\n",
       "    <tr>\n",
       "      <th>951088862</th>\n",
       "      <td>0.534674</td>\n",
       "      <td>92.125020</td>\n",
       "      <td>0.089901</td>\n",
       "      <td>16</td>\n",
       "      <td>239.50</td>\n",
       "      <td>4.043348</td>\n",
       "      <td>19.953126</td>\n",
       "      <td>0.013619</td>\n",
       "      <td>79.934237</td>\n",
       "      <td>0.011335</td>\n",
       "      <td>...</td>\n",
       "      <td>215.0</td>\n",
       "      <td>APN</td>\n",
       "      <td>8304</td>\n",
       "      <td>2958</td>\n",
       "      <td>7103</td>\n",
       "      <td>probeA</td>\n",
       "      <td>See electrode locations</td>\n",
       "      <td>29999.965974</td>\n",
       "      <td>1249.998582</td>\n",
       "      <td>True</td>\n",
       "    </tr>\n",
       "  </tbody>\n",
       "</table>\n",
       "<p>5 rows × 40 columns</p>\n",
       "</div>"
      ],
      "text/plain": [
       "           waveform_PT_ratio  waveform_amplitude  amplitude_cutoff  \\\n",
       "unit_id                                                              \n",
       "951088679           0.620607           82.147455          0.023654   \n",
       "951088664           0.587044           78.399165          0.001739   \n",
       "951088734           0.560996          187.504005          0.001249   \n",
       "951088721           0.474457          196.741545          0.000059   \n",
       "951088862           0.534674           92.125020          0.089901   \n",
       "\n",
       "           cluster_id  cumulative_drift   d_prime  firing_rate  \\\n",
       "unit_id                                                          \n",
       "951088679           1            480.97  2.575648     7.429131   \n",
       "951088664           0            427.07  3.085334     6.843864   \n",
       "951088734           5            311.01  5.152564     1.418476   \n",
       "951088721           4            355.17  4.295014    11.517381   \n",
       "951088862          16            239.50  4.043348    19.953126   \n",
       "\n",
       "           isi_violations  isolation_distance   L_ratio  ...  \\\n",
       "unit_id                                                  ...   \n",
       "951088679        0.053350           51.364291  0.028062  ...   \n",
       "951088664        0.033732           40.358293  0.051513  ...   \n",
       "951088734        0.356931           56.950961  0.001292  ...   \n",
       "951088721        0.000271           58.358552  0.020218  ...   \n",
       "951088862        0.013619           79.934237  0.011335  ...   \n",
       "\n",
       "           ecephys_structure_id  ecephys_structure_acronym  \\\n",
       "unit_id                                                      \n",
       "951088679                 215.0                        APN   \n",
       "951088664                 215.0                        APN   \n",
       "951088734                 215.0                        APN   \n",
       "951088721                 215.0                        APN   \n",
       "951088862                 215.0                        APN   \n",
       "\n",
       "           anterior_posterior_ccf_coordinate  dorsal_ventral_ccf_coordinate  \\\n",
       "unit_id                                                                       \n",
       "951088679                               8328                           3018   \n",
       "951088664                               8328                           3018   \n",
       "951088734                               8316                           2988   \n",
       "951088721                               8316                           2988   \n",
       "951088862                               8304                           2958   \n",
       "\n",
       "           left_right_ccf_coordinate  probe_description  \\\n",
       "unit_id                                                   \n",
       "951088679                       7095             probeA   \n",
       "951088664                       7095             probeA   \n",
       "951088734                       7099             probeA   \n",
       "951088721                       7099             probeA   \n",
       "951088862                       7103             probeA   \n",
       "\n",
       "                          location  probe_sampling_rate  \\\n",
       "unit_id                                                   \n",
       "951088679  See electrode locations         29999.965974   \n",
       "951088664  See electrode locations         29999.965974   \n",
       "951088734  See electrode locations         29999.965974   \n",
       "951088721  See electrode locations         29999.965974   \n",
       "951088862  See electrode locations         29999.965974   \n",
       "\n",
       "           probe_lfp_sampling_rate  probe_has_lfp_data  \n",
       "unit_id                                                 \n",
       "951088679              1249.998582                True  \n",
       "951088664              1249.998582                True  \n",
       "951088734              1249.998582                True  \n",
       "951088721              1249.998582                True  \n",
       "951088862              1249.998582                True  \n",
       "\n",
       "[5 rows x 40 columns]"
      ]
     },
     "execution_count": 14,
     "metadata": {},
     "output_type": "execute_result"
    }
   ],
   "source": [
    "units = session.units # can be slow -- needs to load all spike times\n",
    "\n",
    "units.head()"
   ]
  },
  {
   "cell_type": "markdown",
   "metadata": {},
   "source": [
    "Next, we'll load a table of containing information about all of the stimuli that were shown:"
   ]
  },
  {
   "cell_type": "code",
   "execution_count": 15,
   "metadata": {},
   "outputs": [
    {
     "data": {
      "text/html": [
       "<div>\n",
       "<style scoped>\n",
       "    .dataframe tbody tr th:only-of-type {\n",
       "        vertical-align: middle;\n",
       "    }\n",
       "\n",
       "    .dataframe tbody tr th {\n",
       "        vertical-align: top;\n",
       "    }\n",
       "\n",
       "    .dataframe thead th {\n",
       "        text-align: right;\n",
       "    }\n",
       "</style>\n",
       "<table border=\"1\" class=\"dataframe\">\n",
       "  <thead>\n",
       "    <tr style=\"text-align: right;\">\n",
       "      <th></th>\n",
       "      <th>color</th>\n",
       "      <th>contrast</th>\n",
       "      <th>frame</th>\n",
       "      <th>orientation</th>\n",
       "      <th>phase</th>\n",
       "      <th>size</th>\n",
       "      <th>spatial_frequency</th>\n",
       "      <th>start_time</th>\n",
       "      <th>stimulus_block</th>\n",
       "      <th>stimulus_name</th>\n",
       "      <th>stop_time</th>\n",
       "      <th>temporal_frequency</th>\n",
       "      <th>x_position</th>\n",
       "      <th>y_position</th>\n",
       "      <th>duration</th>\n",
       "      <th>stimulus_condition_id</th>\n",
       "    </tr>\n",
       "    <tr>\n",
       "      <th>stimulus_presentation_id</th>\n",
       "      <th></th>\n",
       "      <th></th>\n",
       "      <th></th>\n",
       "      <th></th>\n",
       "      <th></th>\n",
       "      <th></th>\n",
       "      <th></th>\n",
       "      <th></th>\n",
       "      <th></th>\n",
       "      <th></th>\n",
       "      <th></th>\n",
       "      <th></th>\n",
       "      <th></th>\n",
       "      <th></th>\n",
       "      <th></th>\n",
       "      <th></th>\n",
       "    </tr>\n",
       "  </thead>\n",
       "  <tbody>\n",
       "    <tr>\n",
       "      <th>0</th>\n",
       "      <td>null</td>\n",
       "      <td>null</td>\n",
       "      <td>null</td>\n",
       "      <td>null</td>\n",
       "      <td>null</td>\n",
       "      <td>null</td>\n",
       "      <td>null</td>\n",
       "      <td>24.875987</td>\n",
       "      <td>null</td>\n",
       "      <td>spontaneous</td>\n",
       "      <td>84.942787</td>\n",
       "      <td>null</td>\n",
       "      <td>null</td>\n",
       "      <td>null</td>\n",
       "      <td>60.066800</td>\n",
       "      <td>0</td>\n",
       "    </tr>\n",
       "    <tr>\n",
       "      <th>1</th>\n",
       "      <td>null</td>\n",
       "      <td>0.8</td>\n",
       "      <td>null</td>\n",
       "      <td>90.0</td>\n",
       "      <td>[3644.93333333, 3644.93333333]</td>\n",
       "      <td>[20.0, 20.0]</td>\n",
       "      <td>0.08</td>\n",
       "      <td>84.942787</td>\n",
       "      <td>0.0</td>\n",
       "      <td>gabors</td>\n",
       "      <td>85.176306</td>\n",
       "      <td>4.0</td>\n",
       "      <td>20.0</td>\n",
       "      <td>-10.0</td>\n",
       "      <td>0.233519</td>\n",
       "      <td>1</td>\n",
       "    </tr>\n",
       "    <tr>\n",
       "      <th>2</th>\n",
       "      <td>null</td>\n",
       "      <td>0.8</td>\n",
       "      <td>null</td>\n",
       "      <td>0.0</td>\n",
       "      <td>[3644.93333333, 3644.93333333]</td>\n",
       "      <td>[20.0, 20.0]</td>\n",
       "      <td>0.08</td>\n",
       "      <td>85.176306</td>\n",
       "      <td>0.0</td>\n",
       "      <td>gabors</td>\n",
       "      <td>85.426505</td>\n",
       "      <td>4.0</td>\n",
       "      <td>30.0</td>\n",
       "      <td>40.0</td>\n",
       "      <td>0.250199</td>\n",
       "      <td>2</td>\n",
       "    </tr>\n",
       "    <tr>\n",
       "      <th>3</th>\n",
       "      <td>null</td>\n",
       "      <td>0.8</td>\n",
       "      <td>null</td>\n",
       "      <td>45.0</td>\n",
       "      <td>[3644.93333333, 3644.93333333]</td>\n",
       "      <td>[20.0, 20.0]</td>\n",
       "      <td>0.08</td>\n",
       "      <td>85.426505</td>\n",
       "      <td>0.0</td>\n",
       "      <td>gabors</td>\n",
       "      <td>85.676704</td>\n",
       "      <td>4.0</td>\n",
       "      <td>40.0</td>\n",
       "      <td>-30.0</td>\n",
       "      <td>0.250199</td>\n",
       "      <td>3</td>\n",
       "    </tr>\n",
       "    <tr>\n",
       "      <th>4</th>\n",
       "      <td>null</td>\n",
       "      <td>0.8</td>\n",
       "      <td>null</td>\n",
       "      <td>90.0</td>\n",
       "      <td>[3644.93333333, 3644.93333333]</td>\n",
       "      <td>[20.0, 20.0]</td>\n",
       "      <td>0.08</td>\n",
       "      <td>85.676704</td>\n",
       "      <td>0.0</td>\n",
       "      <td>gabors</td>\n",
       "      <td>85.926904</td>\n",
       "      <td>4.0</td>\n",
       "      <td>0.0</td>\n",
       "      <td>-40.0</td>\n",
       "      <td>0.250199</td>\n",
       "      <td>4</td>\n",
       "    </tr>\n",
       "  </tbody>\n",
       "</table>\n",
       "</div>"
      ],
      "text/plain": [
       "                         color contrast frame orientation  \\\n",
       "stimulus_presentation_id                                    \n",
       "0                         null     null  null        null   \n",
       "1                         null      0.8  null        90.0   \n",
       "2                         null      0.8  null         0.0   \n",
       "3                         null      0.8  null        45.0   \n",
       "4                         null      0.8  null        90.0   \n",
       "\n",
       "                                                   phase          size  \\\n",
       "stimulus_presentation_id                                                 \n",
       "0                                                   null          null   \n",
       "1                         [3644.93333333, 3644.93333333]  [20.0, 20.0]   \n",
       "2                         [3644.93333333, 3644.93333333]  [20.0, 20.0]   \n",
       "3                         [3644.93333333, 3644.93333333]  [20.0, 20.0]   \n",
       "4                         [3644.93333333, 3644.93333333]  [20.0, 20.0]   \n",
       "\n",
       "                         spatial_frequency  start_time stimulus_block  \\\n",
       "stimulus_presentation_id                                                \n",
       "0                                     null   24.875987           null   \n",
       "1                                     0.08   84.942787            0.0   \n",
       "2                                     0.08   85.176306            0.0   \n",
       "3                                     0.08   85.426505            0.0   \n",
       "4                                     0.08   85.676704            0.0   \n",
       "\n",
       "                         stimulus_name  stop_time temporal_frequency  \\\n",
       "stimulus_presentation_id                                               \n",
       "0                          spontaneous  84.942787               null   \n",
       "1                               gabors  85.176306                4.0   \n",
       "2                               gabors  85.426505                4.0   \n",
       "3                               gabors  85.676704                4.0   \n",
       "4                               gabors  85.926904                4.0   \n",
       "\n",
       "                         x_position y_position   duration  \\\n",
       "stimulus_presentation_id                                    \n",
       "0                              null       null  60.066800   \n",
       "1                              20.0      -10.0   0.233519   \n",
       "2                              30.0       40.0   0.250199   \n",
       "3                              40.0      -30.0   0.250199   \n",
       "4                               0.0      -40.0   0.250199   \n",
       "\n",
       "                          stimulus_condition_id  \n",
       "stimulus_presentation_id                         \n",
       "0                                             0  \n",
       "1                                             1  \n",
       "2                                             2  \n",
       "3                                             3  \n",
       "4                                             4  "
      ]
     },
     "execution_count": 15,
     "metadata": {},
     "output_type": "execute_result"
    }
   ],
   "source": [
    "from allensdk.brain_observatory.ecephys.stimulus_table import naming_utilities\n",
    "naming_utilities.standardize_movie_numbers = lambda a : a\n",
    "session.naming_utilities = naming_utilities # this is a hack needed to circumvent a bug in the AllenSDK\n",
    "\n",
    "stimulus_presentations = session.stimulus_presentations\n",
    "\n",
    "stimulus_presentations.head()"
   ]
  },
  {
   "cell_type": "markdown",
   "metadata": {},
   "source": [
    "`stimulus_presentations` is a `DataFrame` containing one row for each presentation or \"trial.\" We can see all of the types of stimuli by looking for the unique stimulus names in this table:"
   ]
  },
  {
   "cell_type": "code",
   "execution_count": 16,
   "metadata": {},
   "outputs": [
    {
     "data": {
      "text/plain": [
       "array(['spontaneous', 'gabors', 'flashes', 'drifting_gratings',\n",
       "       'natural_movie_three', 'natural_movie_one', 'static_gratings',\n",
       "       'natural_scenes', 'drifting_gratings_contrast'], dtype=object)"
      ]
     },
     "execution_count": 16,
     "metadata": {},
     "output_type": "execute_result"
    }
   ],
   "source": [
    "stimulus_presentations.stimulus_name.unique()"
   ]
  },
  {
   "cell_type": "markdown",
   "metadata": {},
   "source": [
    "### Plotting the response to drifting gratings\n",
    "\n",
    "Let's create smaller tables containing only the `drifting_gratings` stimuli, and just the units in V1: "
   ]
  },
  {
   "cell_type": "code",
   "execution_count": 17,
   "metadata": {},
   "outputs": [],
   "source": [
    "stimulus_presentations_dg = stimulus_presentations[stimulus_presentations.stimulus_name == 'drifting_gratings']\n",
    "\n",
    "units_VISp = units[units.ecephys_structure_acronym == 'VISp']\n",
    "\n",
    "unit_metrics_VISp = unit_metrics.loc[units_VISp.index.values]"
   ]
  },
  {
   "cell_type": "markdown",
   "metadata": {},
   "source": [
    "To explore some example drifting grating responses with spikes, we'll select the unit with the highest direction selectivity. When describing gratings stimuli, \"direction\" refers to the *angle of motion*, which varies between 0 and 360 degrees, while \"orientation\" refers to the *angle of the grating on individual frames*, which varies between 0 and 180 degrees."
   ]
  },
  {
   "cell_type": "code",
   "execution_count": 19,
   "metadata": {},
   "outputs": [
    {
     "data": {
      "text/plain": [
       "0.6677837744443985"
      ]
     },
     "execution_count": 19,
     "metadata": {},
     "output_type": "execute_result"
    }
   ],
   "source": [
    "unit_id = unit_metrics_VISp.g_dsi_dg.idxmax()\n",
    "\n",
    "unit_metrics_VISp.loc[unit_id].g_dsi_dg"
   ]
  },
  {
   "cell_type": "markdown",
   "metadata": {},
   "source": [
    "Let's plot this unit's response to all of the different drifting gratings stimulus conditions. Note that the stimulus presentations table only contains one column to describe the grating angle, which is called `orientation`:"
   ]
  },
  {
   "cell_type": "code",
   "execution_count": 20,
   "metadata": {},
   "outputs": [
    {
     "name": "stdout",
     "output_type": "stream",
     "text": [
      "[  0.  45.  90. 135. 180. 225. 270. 315.]\n",
      "[ 1.  2.  4.  8. 15.]\n"
     ]
    }
   ],
   "source": [
    "orientations = np.sort(stimulus_presentations_dg.orientation.unique()[:-1].astype('float')) # remove the 'null value at the end'\n",
    "temporal_frequencies = np.sort(stimulus_presentations_dg.temporal_frequency.unique()[:-1].astype('float')) # remove the 'null' value at the end\n",
    "\n",
    "print(np.sort(orientations))\n",
    "print(np.sort(temporal_frequencies))"
   ]
  },
  {
   "cell_type": "markdown",
   "metadata": {},
   "source": [
    "We can make a raster plot for all presentations of each condition, with each dot representing one spike. The `presentationwise_spike_times` method makes it each to extract the spike times for one or more units, given a set of unique presentation IDs (contained in the index column of the `stimulus_presentations` table)."
   ]
  },
  {
   "cell_type": "code",
   "execution_count": 21,
   "metadata": {},
   "outputs": [
    {
     "data": {
      "image/png": "[encoded data removed]",
      "text/plain": [
       "<Figure size 720x360 with 40 Axes>"
      ]
     },
     "metadata": {
      "needs_background": "light"
     },
     "output_type": "display_data"
    }
   ],
   "source": [
    "plt.figure(figsize=(10,5))\n",
    "\n",
    "for tf_index, tf in enumerate(temporal_frequencies):\n",
    "    \n",
    "    for ori_idx, ori in enumerate(orientations):\n",
    "        \n",
    "        presentation_ids = stimulus_presentations_dg[\n",
    "            (stimulus_presentations_dg.temporal_frequency == tf) &\n",
    "            (stimulus_presentations_dg.orientation == ori)].index.values\n",
    "        \n",
    "        df = session.presentationwise_spike_times(presentation_ids, [unit_id])\n",
    "        \n",
    "        plt.subplot(len(temporal_frequencies),\n",
    "                    len(orientations), \n",
    "                    ori_idx + tf_index * len(orientations) + 1)\n",
    "        \n",
    "        if tf_index == 0:\n",
    "            plt.title(ori)\n",
    "            \n",
    "        if ori_idx == 0:\n",
    "            plt.ylabel(tf)\n",
    "        \n",
    "        if len(df) > 0:\n",
    "            df['trial_index'] = presentation_ids.searchsorted(df.stimulus_presentation_id.values)\n",
    "            plt.scatter(df['time_since_stimulus_presentation_onset'], df['trial_index'], s=1, c='k')\n",
    "            plt.xlim([0, 2]) # each trial is 2 seconds long\n",
    "            plt.ylim([0,len(presentation_ids)])\n",
    "            \n",
    "        if ori_idx == 7 and tf_index == 4:\n",
    "            plt.xlabel('Time (s)')\n",
    "            plt.ylabel('Trial')\n",
    "            \n",
    "plt.tight_layout()"
   ]
  },
  {
   "cell_type": "markdown",
   "metadata": {},
   "source": [
    "We can very clearly see this unit's preferred orientation is 225 degrees, and it tends to fire more at lower temporal frequencies.\n",
    "\n",
    "These raster plots display rich information about a unit's dynamics within a trial. For example, you can see that this unit tends to lock it's firing to a specific phase of the drifting grating at its preferred orientation, which is common for cells in V1.\n",
    "\n",
    "However, for the purposes of population decoding, we are going to summarize the response to each presentation as a single number, the \"firing rate.\" We can visualize the relative firing rate for each stimulus condition using a \"star\" plot. This plot was developed specifically for the Allen Brain Observatory datasets, and can be created using a function built in the AllenSDK."
   ]
  },
  {
   "cell_type": "code",
   "execution_count": 22,
   "metadata": {},
   "outputs": [
    {
     "data": {
      "image/png": "[encoded data removed]",
      "text/plain": [
       "<Figure size 432x288 with 1 Axes>"
      ]
     },
     "metadata": {
      "needs_background": "light"
     },
     "output_type": "display_data"
    }
   ],
   "source": [
    "from allensdk.brain_observatory.ecephys.stimulus_analysis.drifting_gratings import DriftingGratings \n",
    "dg = DriftingGratings(session)\n",
    "dg.make_star_plot(unit_id)"
   ]
  },
  {
   "cell_type": "markdown",
   "metadata": {},
   "source": [
    "Each presentation is summarized as relative color intensity that's proportional to the firing rate. This is the information we will use for population-level decoding.\n",
    "\n",
    "Note that this approach rests on two very important assumptions:\n",
    "1. The decoder knows when the stimulus starts and ends\n",
    "2. All spikes within this window are weighted equally\n",
    "\n",
    "These are almost certainly not valid when thinking about how downstream brain regions actually decode activity, but they are very useful for understanding what type of information is represented in whatever brain region we're analyzing. This is a very important point: what we ultimately want to know is \"how is information contained in neurons' spiking patterns used to guide behavior?\" But, without observing the downstream impact of these spikes, we can only ask, \"what information can be decoded from neurons' spiking patterns *in principle*?\"\n",
    "\n",
    "To compute this unit's firing rate for each presentation at a particular temporal frequency (2 Hz), we'll use a different helper method called `presentationwise_spike_counts`. This one is similar to `presentationwise_spike_counts`, except it returns the data as an `xarray.DataArray` with dimensions of `stimulus_presentation_id`, `time_relative_to_stimulus_onset`, and `unit_id`. Note that a `DataArray` is just a wrapper around a `numpy.ndarray` that includes labels for each axis, so this information is always linked to the underlying data. This format makes it easy to sub-select data for different units, presentations, or time points within a trial."
   ]
  },
  {
   "cell_type": "code",
   "execution_count": 24,
   "metadata": {},
   "outputs": [
    {
     "data": {
      "text/html": [
       "<div><svg style=\"position: absolute; width: 0; height: 0; overflow: hidden\">\n",
       "<defs>\n",
       "<symbol id=\"icon-database\" viewBox=\"0 0 32 32\">\n",
       "<path d=\"M16 0c-8.837 0-16 2.239-16 5v4c0 2.761 7.163 5 16 5s16-2.239 16-5v-4c0-2.761-7.163-5-16-5z\"></path>\n",
       "<path d=\"M16 17c-8.837 0-16-2.239-16-5v6c0 2.761 7.163 5 16 5s16-2.239 16-5v-6c0 2.761-7.163 5-16 5z\"></path>\n",
       "<path d=\"M16 26c-8.837 0-16-2.239-16-5v6c0 2.761 7.163 5 16 5s16-2.239 16-5v-6c0 2.761-7.163 5-16 5z\"></path>\n",
       "</symbol>\n",
       "<symbol id=\"icon-file-text2\" viewBox=\"0 0 32 32\">\n",
       "<path d=\"M28.681 7.159c-0.694-0.947-1.662-2.053-2.724-3.116s-2.169-2.030-3.116-2.724c-1.612-1.182-2.393-1.319-2.841-1.319h-15.5c-1.378 0-2.5 1.121-2.5 2.5v27c0 1.378 1.122 2.5 2.5 2.5h23c1.378 0 2.5-1.122 2.5-2.5v-19.5c0-0.448-0.137-1.23-1.319-2.841zM24.543 5.457c0.959 0.959 1.712 1.825 2.268 2.543h-4.811v-4.811c0.718 0.556 1.584 1.309 2.543 2.268zM28 29.5c0 0.271-0.229 0.5-0.5 0.5h-23c-0.271 0-0.5-0.229-0.5-0.5v-27c0-0.271 0.229-0.5 0.5-0.5 0 0 15.499-0 15.5 0v7c0 0.552 0.448 1 1 1h7v19.5z\"></path>\n",
       "<path d=\"M23 26h-14c-0.552 0-1-0.448-1-1s0.448-1 1-1h14c0.552 0 1 0.448 1 1s-0.448 1-1 1z\"></path>\n",
       "<path d=\"M23 22h-14c-0.552 0-1-0.448-1-1s0.448-1 1-1h14c0.552 0 1 0.448 1 1s-0.448 1-1 1z\"></path>\n",
       "<path d=\"M23 18h-14c-0.552 0-1-0.448-1-1s0.448-1 1-1h14c0.552 0 1 0.448 1 1s-0.448 1-1 1z\"></path>\n",
       "</symbol>\n",
       "</defs>\n",
       "</svg>\n",
       "<style>/* CSS stylesheet for displaying xarray objects in jupyterlab.\n",
       " *\n",
       " */\n",
       "\n",
       ":root {\n",
       "  --xr-font-color0: var(--jp-content-font-color0, rgba(0, 0, 0, 1));\n",
       "  --xr-font-color2: var(--jp-content-font-color2, rgba(0, 0, 0, 0.54));\n",
       "  --xr-font-color3: var(--jp-content-font-color3, rgba(0, 0, 0, 0.38));\n",
       "  --xr-border-color: var(--jp-border-color2, #e0e0e0);\n",
       "  --xr-disabled-color: var(--jp-layout-color3, #bdbdbd);\n",
       "  --xr-background-color: var(--jp-layout-color0, white);\n",
       "  --xr-background-color-row-even: var(--jp-layout-color1, white);\n",
       "  --xr-background-color-row-odd: var(--jp-layout-color2, #eeeeee);\n",
       "}\n",
       "\n",
       "html[theme=dark],\n",
       "body[data-theme=dark],\n",
       "body.vscode-dark {\n",
       "  --xr-font-color0: rgba(255, 255, 255, 1);\n",
       "  --xr-font-color2: rgba(255, 255, 255, 0.54);\n",
       "  --xr-font-color3: rgba(255, 255, 255, 0.38);\n",
       "  --xr-border-color: #1F1F1F;\n",
       "  --xr-disabled-color: #515151;\n",
       "  --xr-background-color: #111111;\n",
       "  --xr-background-color-row-even: #111111;\n",
       "  --xr-background-color-row-odd: #313131;\n",
       "}\n",
       "\n",
       ".xr-wrap {\n",
       "  display: block !important;\n",
       "  min-width: 300px;\n",
       "  max-width: 700px;\n",
       "}\n",
       "\n",
       ".xr-text-repr-fallback {\n",
       "  /* fallback to plain text repr when CSS is not injected (untrusted notebook) */\n",
       "  display: none;\n",
       "}\n",
       "\n",
       ".xr-header {\n",
       "  padding-top: 6px;\n",
       "  padding-bottom: 6px;\n",
       "  margin-bottom: 4px;\n",
       "  border-bottom: solid 1px var(--xr-border-color);\n",
       "}\n",
       "\n",
       ".xr-header > div,\n",
       ".xr-header > ul {\n",
       "  display: inline;\n",
       "  margin-top: 0;\n",
       "  margin-bottom: 0;\n",
       "}\n",
       "\n",
       ".xr-obj-type,\n",
       ".xr-array-name {\n",
       "  margin-left: 2px;\n",
       "  margin-right: 10px;\n",
       "}\n",
       "\n",
       ".xr-obj-type {\n",
       "  color: var(--xr-font-color2);\n",
       "}\n",
       "\n",
       ".xr-sections {\n",
       "  padding-left: 0 !important;\n",
       "  display: grid;\n",
       "  grid-template-columns: 150px auto auto 1fr 20px 20px;\n",
       "}\n",
       "\n",
       ".xr-section-item {\n",
       "  display: contents;\n",
       "}\n",
       "\n",
       ".xr-section-item input {\n",
       "  display: none;\n",
       "}\n",
       "\n",
       ".xr-section-item input + label {\n",
       "  color: var(--xr-disabled-color);\n",
       "}\n",
       "\n",
       ".xr-section-item input:enabled + label {\n",
       "  cursor: pointer;\n",
       "  color: var(--xr-font-color2);\n",
       "}\n",
       "\n",
       ".xr-section-item input:enabled + label:hover {\n",
       "  color: var(--xr-font-color0);\n",
       "}\n",
       "\n",
       ".xr-section-summary {\n",
       "  grid-column: 1;\n",
       "  color: var(--xr-font-color2);\n",
       "  font-weight: 500;\n",
       "}\n",
       "\n",
       ".xr-section-summary > span {\n",
       "  display: inline-block;\n",
       "  padding-left: 0.5em;\n",
       "}\n",
       "\n",
       ".xr-section-summary-in:disabled + label {\n",
       "  color: var(--xr-font-color2);\n",
       "}\n",
       "\n",
       ".xr-section-summary-in + label:before {\n",
       "  display: inline-block;\n",
       "  content: '►';\n",
       "  font-size: 11px;\n",
       "  width: 15px;\n",
       "  text-align: center;\n",
       "}\n",
       "\n",
       ".xr-section-summary-in:disabled + label:before {\n",
       "  color: var(--xr-disabled-color);\n",
       "}\n",
       "\n",
       ".xr-section-summary-in:checked + label:before {\n",
       "  content: '▼';\n",
       "}\n",
       "\n",
       ".xr-section-summary-in:checked + label > span {\n",
       "  display: none;\n",
       "}\n",
       "\n",
       ".xr-section-summary,\n",
       ".xr-section-inline-details {\n",
       "  padding-top: 4px;\n",
       "  padding-bottom: 4px;\n",
       "}\n",
       "\n",
       ".xr-section-inline-details {\n",
       "  grid-column: 2 / -1;\n",
       "}\n",
       "\n",
       ".xr-section-details {\n",
       "  display: none;\n",
       "  grid-column: 1 / -1;\n",
       "  margin-bottom: 5px;\n",
       "}\n",
       "\n",
       ".xr-section-summary-in:checked ~ .xr-section-details {\n",
       "  display: contents;\n",
       "}\n",
       "\n",
       ".xr-array-wrap {\n",
       "  grid-column: 1 / -1;\n",
       "  display: grid;\n",
       "  grid-template-columns: 20px auto;\n",
       "}\n",
       "\n",
       ".xr-array-wrap > label {\n",
       "  grid-column: 1;\n",
       "  vertical-align: top;\n",
       "}\n",
       "\n",
       ".xr-preview {\n",
       "  color: var(--xr-font-color3);\n",
       "}\n",
       "\n",
       ".xr-array-preview,\n",
       ".xr-array-data {\n",
       "  padding: 0 5px !important;\n",
       "  grid-column: 2;\n",
       "}\n",
       "\n",
       ".xr-array-data,\n",
       ".xr-array-in:checked ~ .xr-array-preview {\n",
       "  display: none;\n",
       "}\n",
       "\n",
       ".xr-array-in:checked ~ .xr-array-data,\n",
       ".xr-array-preview {\n",
       "  display: inline-block;\n",
       "}\n",
       "\n",
       ".xr-dim-list {\n",
       "  display: inline-block !important;\n",
       "  list-style: none;\n",
       "  padding: 0 !important;\n",
       "  margin: 0;\n",
       "}\n",
       "\n",
       ".xr-dim-list li {\n",
       "  display: inline-block;\n",
       "  padding: 0;\n",
       "  margin: 0;\n",
       "}\n",
       "\n",
       ".xr-dim-list:before {\n",
       "  content: '(';\n",
       "}\n",
       "\n",
       ".xr-dim-list:after {\n",
       "  content: ')';\n",
       "}\n",
       "\n",
       ".xr-dim-list li:not(:last-child):after {\n",
       "  content: ',';\n",
       "  padding-right: 5px;\n",
       "}\n",
       "\n",
       ".xr-has-index {\n",
       "  font-weight: bold;\n",
       "}\n",
       "\n",
       ".xr-var-list,\n",
       ".xr-var-item {\n",
       "  display: contents;\n",
       "}\n",
       "\n",
       ".xr-var-item > div,\n",
       ".xr-var-item label,\n",
       ".xr-var-item > .xr-var-name span {\n",
       "  background-color: var(--xr-background-color-row-even);\n",
       "  margin-bottom: 0;\n",
       "}\n",
       "\n",
       ".xr-var-item > .xr-var-name:hover span {\n",
       "  padding-right: 5px;\n",
       "}\n",
       "\n",
       ".xr-var-list > li:nth-child(odd) > div,\n",
       ".xr-var-list > li:nth-child(odd) > label,\n",
       ".xr-var-list > li:nth-child(odd) > .xr-var-name span {\n",
       "  background-color: var(--xr-background-color-row-odd);\n",
       "}\n",
       "\n",
       ".xr-var-name {\n",
       "  grid-column: 1;\n",
       "}\n",
       "\n",
       ".xr-var-dims {\n",
       "  grid-column: 2;\n",
       "}\n",
       "\n",
       ".xr-var-dtype {\n",
       "  grid-column: 3;\n",
       "  text-align: right;\n",
       "  color: var(--xr-font-color2);\n",
       "}\n",
       "\n",
       ".xr-var-preview {\n",
       "  grid-column: 4;\n",
       "}\n",
       "\n",
       ".xr-index-preview {\n",
       "  grid-column: 2 / 5;\n",
       "  color: var(--xr-font-color2);\n",
       "}\n",
       "\n",
       ".xr-var-name,\n",
       ".xr-var-dims,\n",
       ".xr-var-dtype,\n",
       ".xr-preview,\n",
       ".xr-attrs dt {\n",
       "  white-space: nowrap;\n",
       "  overflow: hidden;\n",
       "  text-overflow: ellipsis;\n",
       "  padding-right: 10px;\n",
       "}\n",
       "\n",
       ".xr-var-name:hover,\n",
       ".xr-var-dims:hover,\n",
       ".xr-var-dtype:hover,\n",
       ".xr-attrs dt:hover {\n",
       "  overflow: visible;\n",
       "  width: auto;\n",
       "  z-index: 1;\n",
       "}\n",
       "\n",
       ".xr-var-attrs,\n",
       ".xr-var-data,\n",
       ".xr-index-data {\n",
       "  display: none;\n",
       "  background-color: var(--xr-background-color) !important;\n",
       "  padding-bottom: 5px !important;\n",
       "}\n",
       "\n",
       ".xr-var-attrs-in:checked ~ .xr-var-attrs,\n",
       ".xr-var-data-in:checked ~ .xr-var-data,\n",
       ".xr-index-data-in:checked ~ .xr-index-data {\n",
       "  display: block;\n",
       "}\n",
       "\n",
       ".xr-var-data > table {\n",
       "  float: right;\n",
       "}\n",
       "\n",
       ".xr-var-name span,\n",
       ".xr-var-data,\n",
       ".xr-index-name div,\n",
       ".xr-index-data,\n",
       ".xr-attrs {\n",
       "  padding-left: 25px !important;\n",
       "}\n",
       "\n",
       ".xr-attrs,\n",
       ".xr-var-attrs,\n",
       ".xr-var-data,\n",
       ".xr-index-data {\n",
       "  grid-column: 1 / -1;\n",
       "}\n",
       "\n",
       "dl.xr-attrs {\n",
       "  padding: 0;\n",
       "  margin: 0;\n",
       "  display: grid;\n",
       "  grid-template-columns: 125px auto;\n",
       "}\n",
       "\n",
       ".xr-attrs dt,\n",
       ".xr-attrs dd {\n",
       "  padding: 0;\n",
       "  margin: 0;\n",
       "  float: left;\n",
       "  padding-right: 10px;\n",
       "  width: auto;\n",
       "}\n",
       "\n",
       ".xr-attrs dt {\n",
       "  font-weight: normal;\n",
       "  grid-column: 1;\n",
       "}\n",
       "\n",
       ".xr-attrs dt:hover span {\n",
       "  display: inline-block;\n",
       "  background: var(--xr-background-color);\n",
       "  padding-right: 10px;\n",
       "}\n",
       "\n",
       ".xr-attrs dd {\n",
       "  grid-column: 2;\n",
       "  white-space: pre-wrap;\n",
       "  word-break: break-all;\n",
       "}\n",
       "\n",
       ".xr-icon-database,\n",
       ".xr-icon-file-text2,\n",
       ".xr-no-icon {\n",
       "  display: inline-block;\n",
       "  vertical-align: middle;\n",
       "  width: 1em;\n",
       "  height: 1.5em !important;\n",
       "  stroke-width: 0;\n",
       "  stroke: currentColor;\n",
       "  fill: currentColor;\n",
       "}\n",
       "</style><pre class='xr-text-repr-fallback'>&lt;xarray.DataArray &#x27;spike_counts&#x27; (stimulus_presentation_id: 120,\n",
       "                                  time_relative_to_stimulus_onset: 198,\n",
       "                                  unit_id: 1)&gt;\n",
       "array([[[0],\n",
       "        [0],\n",
       "        [0],\n",
       "        ...,\n",
       "        [0],\n",
       "        [0],\n",
       "        [0]],\n",
       "\n",
       "       [[0],\n",
       "        [0],\n",
       "        [0],\n",
       "        ...,\n",
       "        [0],\n",
       "        [0],\n",
       "        [0]],\n",
       "\n",
       "       [[0],\n",
       "        [0],\n",
       "        [0],\n",
       "        ...,\n",
       "...\n",
       "        ...,\n",
       "        [0],\n",
       "        [0],\n",
       "        [0]],\n",
       "\n",
       "       [[0],\n",
       "        [0],\n",
       "        [0],\n",
       "        ...,\n",
       "        [0],\n",
       "        [0],\n",
       "        [0]],\n",
       "\n",
       "       [[0],\n",
       "        [0],\n",
       "        [0],\n",
       "        ...,\n",
       "        [0],\n",
       "        [0],\n",
       "        [0]]], dtype=uint16)\n",
       "Coordinates:\n",
       "  * stimulus_presentation_id         (stimulus_presentation_id) int64 3918 .....\n",
       "  * time_relative_to_stimulus_onset  (time_relative_to_stimulus_onset) float64 ...\n",
       "  * unit_id                          (unit_id) int64 951103589</pre><div class='xr-wrap' style='display:none'><div class='xr-header'><div class='xr-obj-type'>xarray.DataArray</div><div class='xr-array-name'>'spike_counts'</div><ul class='xr-dim-list'><li><span class='xr-has-index'>stimulus_presentation_id</span>: 120</li><li><span class='xr-has-index'>time_relative_to_stimulus_onset</span>: 198</li><li><span class='xr-has-index'>unit_id</span>: 1</li></ul></div><ul class='xr-sections'><li class='xr-section-item'><div class='xr-array-wrap'><input id='section-38ef69f8-df58-4996-b9b4-7a46fb378445' class='xr-array-in' type='checkbox' checked><label for='section-38ef69f8-df58-4996-b9b4-7a46fb378445' title='Show/hide data repr'><svg class='icon xr-icon-database'><use xlink:href='#icon-database'></use></svg></label><div class='xr-array-preview xr-preview'><span>0 0 0 0 0 0 0 0 0 0 0 0 0 0 0 0 0 ... 0 0 0 0 0 0 0 0 0 0 0 0 0 0 0 0</span></div><div class='xr-array-data'><pre>array([[[0],\n",
       "        [0],\n",
       "        [0],\n",
       "        ...,\n",
       "        [0],\n",
       "        [0],\n",
       "        [0]],\n",
       "\n",
       "       [[0],\n",
       "        [0],\n",
       "        [0],\n",
       "        ...,\n",
       "        [0],\n",
       "        [0],\n",
       "        [0]],\n",
       "\n",
       "       [[0],\n",
       "        [0],\n",
       "        [0],\n",
       "        ...,\n",
       "...\n",
       "        ...,\n",
       "        [0],\n",
       "        [0],\n",
       "        [0]],\n",
       "\n",
       "       [[0],\n",
       "        [0],\n",
       "        [0],\n",
       "        ...,\n",
       "        [0],\n",
       "        [0],\n",
       "        [0]],\n",
       "\n",
       "       [[0],\n",
       "        [0],\n",
       "        [0],\n",
       "        ...,\n",
       "        [0],\n",
       "        [0],\n",
       "        [0]]], dtype=uint16)</pre></div></div></li><li class='xr-section-item'><input id='section-6f8ed2d4-f463-49ed-96fe-d4c0cee2f0fc' class='xr-section-summary-in' type='checkbox'  checked><label for='section-6f8ed2d4-f463-49ed-96fe-d4c0cee2f0fc' class='xr-section-summary' >Coordinates: <span>(3)</span></label><div class='xr-section-inline-details'></div><div class='xr-section-details'><ul class='xr-var-list'><li class='xr-var-item'><div class='xr-var-name'><span class='xr-has-index'>stimulus_presentation_id</span></div><div class='xr-var-dims'>(stimulus_presentation_id)</div><div class='xr-var-dtype'>int64</div><div class='xr-var-preview xr-preview'>3918 49248 49325 ... 3842 31044</div><input id='attrs-0f93790e-bfec-4403-a4d2-f983eea0e846' class='xr-var-attrs-in' type='checkbox' disabled><label for='attrs-0f93790e-bfec-4403-a4d2-f983eea0e846' title='Show/Hide attributes'><svg class='icon xr-icon-file-text2'><use xlink:href='#icon-file-text2'></use></svg></label><input id='data-d6cd09a3-ad71-40a4-92ea-7e7bbcd4bec3' class='xr-var-data-in' type='checkbox'><label for='data-d6cd09a3-ad71-40a4-92ea-7e7bbcd4bec3' title='Show/Hide data repr'><svg class='icon xr-icon-database'><use xlink:href='#icon-database'></use></svg></label><div class='xr-var-attrs'><dl class='xr-attrs'></dl></div><div class='xr-var-data'><pre>array([ 3918, 49248, 49325, 49386,  3961, 31088,  3971, 31119, 49310, 31150,\n",
       "       49406, 49265, 49413, 49214, 49207, 49285,  3957,  3929,  3926, 49330,\n",
       "       31063,  3877, 49350, 49371, 31103, 31192,  3839, 31183, 49336,  3825,\n",
       "       31102, 49276, 31032,  3821, 31023, 31083, 31005, 49393, 49321, 49205,\n",
       "        3954,  3927, 49356, 49312, 49425, 31084, 49222, 31130,  3965, 31018,\n",
       "       49292, 49318, 49331, 49337,  3865,  3863,  3830,  3809, 31060, 31121,\n",
       "       49278, 49348, 49387, 49396,  3799, 31111, 31059,  3827,  3939,  3847,\n",
       "        3908,  3887, 31115,  3874,  3883,  3902,  3871, 49375, 49377, 49388,\n",
       "       49402,  3868, 31057,  3982, 31107, 31138, 31113, 31101, 49213, 31087,\n",
       "        3802, 49382, 49379, 31109, 49369, 49363, 49273, 31136,  3903, 31006,\n",
       "       49300,  3991, 49308, 49229, 49267,  3985, 31025,  3818, 49398,  3823,\n",
       "       49329, 31158, 31168, 31069, 31068, 49423,  3990, 49204,  3842, 31044])</pre></div></li><li class='xr-var-item'><div class='xr-var-name'><span class='xr-has-index'>time_relative_to_stimulus_onset</span></div><div class='xr-var-dims'>(time_relative_to_stimulus_onset)</div><div class='xr-var-dtype'>float64</div><div class='xr-var-preview xr-preview'>0.005 0.015 0.025 ... 1.965 1.975</div><input id='attrs-3c9bebd2-7b20-4402-ac5f-27e99d54243a' class='xr-var-attrs-in' type='checkbox' disabled><label for='attrs-3c9bebd2-7b20-4402-ac5f-27e99d54243a' title='Show/Hide attributes'><svg class='icon xr-icon-file-text2'><use xlink:href='#icon-file-text2'></use></svg></label><input id='data-5b236118-cffc-49df-bf2c-02973c729d10' class='xr-var-data-in' type='checkbox'><label for='data-5b236118-cffc-49df-bf2c-02973c729d10' title='Show/Hide data repr'><svg class='icon xr-icon-database'><use xlink:href='#icon-database'></use></svg></label><div class='xr-var-attrs'><dl class='xr-attrs'></dl></div><div class='xr-var-data'><pre>array([0.005, 0.015, 0.025, 0.035, 0.045, 0.055, 0.065, 0.075, 0.085, 0.095,\n",
       "       0.105, 0.115, 0.125, 0.135, 0.145, 0.155, 0.165, 0.175, 0.185, 0.195,\n",
       "       0.205, 0.215, 0.225, 0.235, 0.245, 0.255, 0.265, 0.275, 0.285, 0.295,\n",
       "       0.305, 0.315, 0.325, 0.335, 0.345, 0.355, 0.365, 0.375, 0.385, 0.395,\n",
       "       0.405, 0.415, 0.425, 0.435, 0.445, 0.455, 0.465, 0.475, 0.485, 0.495,\n",
       "       0.505, 0.515, 0.525, 0.535, 0.545, 0.555, 0.565, 0.575, 0.585, 0.595,\n",
       "       0.605, 0.615, 0.625, 0.635, 0.645, 0.655, 0.665, 0.675, 0.685, 0.695,\n",
       "       0.705, 0.715, 0.725, 0.735, 0.745, 0.755, 0.765, 0.775, 0.785, 0.795,\n",
       "       0.805, 0.815, 0.825, 0.835, 0.845, 0.855, 0.865, 0.875, 0.885, 0.895,\n",
       "       0.905, 0.915, 0.925, 0.935, 0.945, 0.955, 0.965, 0.975, 0.985, 0.995,\n",
       "       1.005, 1.015, 1.025, 1.035, 1.045, 1.055, 1.065, 1.075, 1.085, 1.095,\n",
       "       1.105, 1.115, 1.125, 1.135, 1.145, 1.155, 1.165, 1.175, 1.185, 1.195,\n",
       "       1.205, 1.215, 1.225, 1.235, 1.245, 1.255, 1.265, 1.275, 1.285, 1.295,\n",
       "       1.305, 1.315, 1.325, 1.335, 1.345, 1.355, 1.365, 1.375, 1.385, 1.395,\n",
       "       1.405, 1.415, 1.425, 1.435, 1.445, 1.455, 1.465, 1.475, 1.485, 1.495,\n",
       "       1.505, 1.515, 1.525, 1.535, 1.545, 1.555, 1.565, 1.575, 1.585, 1.595,\n",
       "       1.605, 1.615, 1.625, 1.635, 1.645, 1.655, 1.665, 1.675, 1.685, 1.695,\n",
       "       1.705, 1.715, 1.725, 1.735, 1.745, 1.755, 1.765, 1.775, 1.785, 1.795,\n",
       "       1.805, 1.815, 1.825, 1.835, 1.845, 1.855, 1.865, 1.875, 1.885, 1.895,\n",
       "       1.905, 1.915, 1.925, 1.935, 1.945, 1.955, 1.965, 1.975])</pre></div></li><li class='xr-var-item'><div class='xr-var-name'><span class='xr-has-index'>unit_id</span></div><div class='xr-var-dims'>(unit_id)</div><div class='xr-var-dtype'>int64</div><div class='xr-var-preview xr-preview'>951103589</div><input id='attrs-2f29e9f8-1c2f-4ddb-999e-9e397c3ffe20' class='xr-var-attrs-in' type='checkbox' disabled><label for='attrs-2f29e9f8-1c2f-4ddb-999e-9e397c3ffe20' title='Show/Hide attributes'><svg class='icon xr-icon-file-text2'><use xlink:href='#icon-file-text2'></use></svg></label><input id='data-42b4d481-fbb5-44fa-afcf-6ffb4fb010b1' class='xr-var-data-in' type='checkbox'><label for='data-42b4d481-fbb5-44fa-afcf-6ffb4fb010b1' title='Show/Hide data repr'><svg class='icon xr-icon-database'><use xlink:href='#icon-database'></use></svg></label><div class='xr-var-attrs'><dl class='xr-attrs'></dl></div><div class='xr-var-data'><pre>array([951103589])</pre></div></li></ul></div></li><li class='xr-section-item'><input id='section-976ae403-3264-4e77-9e94-c5ba3650f54a' class='xr-section-summary-in' type='checkbox'  ><label for='section-976ae403-3264-4e77-9e94-c5ba3650f54a' class='xr-section-summary' >Indexes: <span>(3)</span></label><div class='xr-section-inline-details'></div><div class='xr-section-details'><ul class='xr-var-list'><li class='xr-var-item'><div class='xr-index-name'><div>stimulus_presentation_id</div></div><div class='xr-index-preview'>PandasIndex</div><div></div><input id='index-b7c7d3b8-4835-497d-9a38-d23994835537' class='xr-index-data-in' type='checkbox'/><label for='index-b7c7d3b8-4835-497d-9a38-d23994835537' title='Show/Hide index repr'><svg class='icon xr-icon-database'><use xlink:href='#icon-database'></use></svg></label><div class='xr-index-data'><pre>PandasIndex(Index([ 3918, 49248, 49325, 49386,  3961, 31088,  3971, 31119, 49310, 31150,\n",
       "       ...\n",
       "       49329, 31158, 31168, 31069, 31068, 49423,  3990, 49204,  3842, 31044],\n",
       "      dtype=&#x27;int64&#x27;, name=&#x27;stimulus_presentation_id&#x27;, length=120))</pre></div></li><li class='xr-var-item'><div class='xr-index-name'><div>time_relative_to_stimulus_onset</div></div><div class='xr-index-preview'>PandasIndex</div><div></div><input id='index-b23159e8-a6f9-4b16-9e3a-be3da3418352' class='xr-index-data-in' type='checkbox'/><label for='index-b23159e8-a6f9-4b16-9e3a-be3da3418352' title='Show/Hide index repr'><svg class='icon xr-icon-database'><use xlink:href='#icon-database'></use></svg></label><div class='xr-index-data'><pre>PandasIndex(Index([              0.005,               0.015,               0.025,\n",
       "                     0.035,               0.045,               0.055,\n",
       "                     0.065, 0.07500000000000001, 0.08499999999999999,\n",
       "                     0.095,\n",
       "       ...\n",
       "        1.8850000000000002,               1.895,  1.9050000000000002,\n",
       "                     1.915,  1.9249999999999998,               1.935,\n",
       "        1.9449999999999998,               1.955,  1.9649999999999999,\n",
       "                     1.975],\n",
       "      dtype=&#x27;float64&#x27;, name=&#x27;time_relative_to_stimulus_onset&#x27;, length=198))</pre></div></li><li class='xr-var-item'><div class='xr-index-name'><div>unit_id</div></div><div class='xr-index-preview'>PandasIndex</div><div></div><input id='index-20e885d1-3688-4d2d-bb0a-d529a089433d' class='xr-index-data-in' type='checkbox'/><label for='index-20e885d1-3688-4d2d-bb0a-d529a089433d' title='Show/Hide index repr'><svg class='icon xr-icon-database'><use xlink:href='#icon-database'></use></svg></label><div class='xr-index-data'><pre>PandasIndex(Index([951103589], dtype=&#x27;int64&#x27;, name=&#x27;unit_id&#x27;))</pre></div></li></ul></div></li><li class='xr-section-item'><input id='section-b65b5612-4ecf-4099-b912-19592ac5ded7' class='xr-section-summary-in' type='checkbox' disabled ><label for='section-b65b5612-4ecf-4099-b912-19592ac5ded7' class='xr-section-summary'  title='Expand/collapse section'>Attributes: <span>(0)</span></label><div class='xr-section-inline-details'></div><div class='xr-section-details'><dl class='xr-attrs'></dl></div></li></ul></div></div>"
      ],
      "text/plain": [
       "<xarray.DataArray 'spike_counts' (stimulus_presentation_id: 120,\n",
       "                                  time_relative_to_stimulus_onset: 198,\n",
       "                                  unit_id: 1)>\n",
       "array([[[0],\n",
       "        [0],\n",
       "        [0],\n",
       "        ...,\n",
       "        [0],\n",
       "        [0],\n",
       "        [0]],\n",
       "\n",
       "       [[0],\n",
       "        [0],\n",
       "        [0],\n",
       "        ...,\n",
       "        [0],\n",
       "        [0],\n",
       "        [0]],\n",
       "\n",
       "       [[0],\n",
       "        [0],\n",
       "        [0],\n",
       "        ...,\n",
       "...\n",
       "        ...,\n",
       "        [0],\n",
       "        [0],\n",
       "        [0]],\n",
       "\n",
       "       [[0],\n",
       "        [0],\n",
       "        [0],\n",
       "        ...,\n",
       "        [0],\n",
       "        [0],\n",
       "        [0]],\n",
       "\n",
       "       [[0],\n",
       "        [0],\n",
       "        [0],\n",
       "        ...,\n",
       "        [0],\n",
       "        [0],\n",
       "        [0]]], dtype=uint16)\n",
       "Coordinates:\n",
       "  * stimulus_presentation_id         (stimulus_presentation_id) int64 3918 .....\n",
       "  * time_relative_to_stimulus_onset  (time_relative_to_stimulus_onset) float64 ...\n",
       "  * unit_id                          (unit_id) int64 951103589"
      ]
     },
     "execution_count": 24,
     "metadata": {},
     "output_type": "execute_result"
    }
   ],
   "source": [
    "presentations = stimulus_presentations_dg[\n",
    "            (stimulus_presentations_dg.temporal_frequency == 2.0)]\n",
    "\n",
    "presentations = presentations.sort_values(by='orientation')\n",
    "        \n",
    "da = session.presentationwise_spike_counts(np.arange(0,1.99,0.01), presentations.index.values, [unit_id])\n",
    "\n",
    "da"
   ]
  },
  {
   "cell_type": "markdown",
   "metadata": {},
   "source": [
    "To compute the firing rates, we just need to count spikes by summing across the time dimension, and then divide by two (the total number of seconds in each trial):"
   ]
  },
  {
   "cell_type": "code",
   "execution_count": 25,
   "metadata": {},
   "outputs": [
    {
     "data": {
      "text/plain": [
       "Text(0.5, 1.0, 'unit 951103589')"
      ]
     },
     "execution_count": 25,
     "metadata": {},
     "output_type": "execute_result"
    },
    {
     "data": {
      "image/png": "[encoded data removed]",
      "text/plain": [
       "<Figure size 432x288 with 1 Axes>"
      ]
     },
     "metadata": {
      "needs_background": "light"
     },
     "output_type": "display_data"
    }
   ],
   "source": [
    "firing_rates = np.squeeze(da.sum('time_relative_to_stimulus_onset')) / 2\n",
    "\n",
    "plt.bar(np.arange(len(presentations)), firing_rates, width=1)\n",
    "\n",
    "plt.vlines(np.arange(15, len(presentations), 15), 0, 10, 'k')\n",
    "plt.ylim([0, 10])\n",
    "plt.xlabel('Presentation number')\n",
    "plt.ylabel('Firing rate')\n",
    "plt.title(f'unit {unit_id}')"
   ]
  },
  {
   "cell_type": "markdown",
   "metadata": {},
   "source": [
    "Since we sorted our `presentations` table by orientation, trials with the same orientation are grouped together. We can further condense the information in this plot by converting firing rates to colors, similarly to what was done in the star plot above:"
   ]
  },
  {
   "cell_type": "code",
   "execution_count": 29,
   "metadata": {},
   "outputs": [
    {
     "data": {
      "text/plain": [
       "<matplotlib.colorbar.Colorbar at 0x7f7b46307fa0>"
      ]
     },
     "execution_count": 29,
     "metadata": {},
     "output_type": "execute_result"
    },
    {
     "data": {
      "image/png": "[encoded data removed]",
      "text/plain": [
       "<Figure size 720x18 with 2 Axes>"
      ]
     },
     "metadata": {
      "needs_background": "light"
     },
     "output_type": "display_data"
    }
   ],
   "source": [
    "plt.figure(figsize=(10,0.25))\n",
    "\n",
    "plt.imshow(da.sum('time_relative_to_stimulus_onset').T / 2, cmap='RdPu', aspect='auto')\n",
    "plt.colorbar(label='Firing rate', aspect=1)"
   ]
  },
  {
   "cell_type": "markdown",
   "metadata": {},
   "source": [
    "### Extracting the population spiking response\n",
    "\n",
    "We can use the `presentationwise_spike_counts` method to retrieve the presentation-aligned activity for all the units in V1, just by changing the last input argument:"
   ]
  },
  {
   "cell_type": "code",
   "execution_count": 30,
   "metadata": {},
   "outputs": [
    {
     "data": {
      "text/html": [
       "<div><svg style=\"position: absolute; width: 0; height: 0; overflow: hidden\">\n",
       "<defs>\n",
       "<symbol id=\"icon-database\" viewBox=\"0 0 32 32\">\n",
       "<path d=\"M16 0c-8.837 0-16 2.239-16 5v4c0 2.761 7.163 5 16 5s16-2.239 16-5v-4c0-2.761-7.163-5-16-5z\"></path>\n",
       "<path d=\"M16 17c-8.837 0-16-2.239-16-5v6c0 2.761 7.163 5 16 5s16-2.239 16-5v-6c0 2.761-7.163 5-16 5z\"></path>\n",
       "<path d=\"M16 26c-8.837 0-16-2.239-16-5v6c0 2.761 7.163 5 16 5s16-2.239 16-5v-6c0 2.761-7.163 5-16 5z\"></path>\n",
       "</symbol>\n",
       "<symbol id=\"icon-file-text2\" viewBox=\"0 0 32 32\">\n",
       "<path d=\"M28.681 7.159c-0.694-0.947-1.662-2.053-2.724-3.116s-2.169-2.030-3.116-2.724c-1.612-1.182-2.393-1.319-2.841-1.319h-15.5c-1.378 0-2.5 1.121-2.5 2.5v27c0 1.378 1.122 2.5 2.5 2.5h23c1.378 0 2.5-1.122 2.5-2.5v-19.5c0-0.448-0.137-1.23-1.319-2.841zM24.543 5.457c0.959 0.959 1.712 1.825 2.268 2.543h-4.811v-4.811c0.718 0.556 1.584 1.309 2.543 2.268zM28 29.5c0 0.271-0.229 0.5-0.5 0.5h-23c-0.271 0-0.5-0.229-0.5-0.5v-27c0-0.271 0.229-0.5 0.5-0.5 0 0 15.499-0 15.5 0v7c0 0.552 0.448 1 1 1h7v19.5z\"></path>\n",
       "<path d=\"M23 26h-14c-0.552 0-1-0.448-1-1s0.448-1 1-1h14c0.552 0 1 0.448 1 1s-0.448 1-1 1z\"></path>\n",
       "<path d=\"M23 22h-14c-0.552 0-1-0.448-1-1s0.448-1 1-1h14c0.552 0 1 0.448 1 1s-0.448 1-1 1z\"></path>\n",
       "<path d=\"M23 18h-14c-0.552 0-1-0.448-1-1s0.448-1 1-1h14c0.552 0 1 0.448 1 1s-0.448 1-1 1z\"></path>\n",
       "</symbol>\n",
       "</defs>\n",
       "</svg>\n",
       "<style>/* CSS stylesheet for displaying xarray objects in jupyterlab.\n",
       " *\n",
       " */\n",
       "\n",
       ":root {\n",
       "  --xr-font-color0: var(--jp-content-font-color0, rgba(0, 0, 0, 1));\n",
       "  --xr-font-color2: var(--jp-content-font-color2, rgba(0, 0, 0, 0.54));\n",
       "  --xr-font-color3: var(--jp-content-font-color3, rgba(0, 0, 0, 0.38));\n",
       "  --xr-border-color: var(--jp-border-color2, #e0e0e0);\n",
       "  --xr-disabled-color: var(--jp-layout-color3, #bdbdbd);\n",
       "  --xr-background-color: var(--jp-layout-color0, white);\n",
       "  --xr-background-color-row-even: var(--jp-layout-color1, white);\n",
       "  --xr-background-color-row-odd: var(--jp-layout-color2, #eeeeee);\n",
       "}\n",
       "\n",
       "html[theme=dark],\n",
       "body[data-theme=dark],\n",
       "body.vscode-dark {\n",
       "  --xr-font-color0: rgba(255, 255, 255, 1);\n",
       "  --xr-font-color2: rgba(255, 255, 255, 0.54);\n",
       "  --xr-font-color3: rgba(255, 255, 255, 0.38);\n",
       "  --xr-border-color: #1F1F1F;\n",
       "  --xr-disabled-color: #515151;\n",
       "  --xr-background-color: #111111;\n",
       "  --xr-background-color-row-even: #111111;\n",
       "  --xr-background-color-row-odd: #313131;\n",
       "}\n",
       "\n",
       ".xr-wrap {\n",
       "  display: block !important;\n",
       "  min-width: 300px;\n",
       "  max-width: 700px;\n",
       "}\n",
       "\n",
       ".xr-text-repr-fallback {\n",
       "  /* fallback to plain text repr when CSS is not injected (untrusted notebook) */\n",
       "  display: none;\n",
       "}\n",
       "\n",
       ".xr-header {\n",
       "  padding-top: 6px;\n",
       "  padding-bottom: 6px;\n",
       "  margin-bottom: 4px;\n",
       "  border-bottom: solid 1px var(--xr-border-color);\n",
       "}\n",
       "\n",
       ".xr-header > div,\n",
       ".xr-header > ul {\n",
       "  display: inline;\n",
       "  margin-top: 0;\n",
       "  margin-bottom: 0;\n",
       "}\n",
       "\n",
       ".xr-obj-type,\n",
       ".xr-array-name {\n",
       "  margin-left: 2px;\n",
       "  margin-right: 10px;\n",
       "}\n",
       "\n",
       ".xr-obj-type {\n",
       "  color: var(--xr-font-color2);\n",
       "}\n",
       "\n",
       ".xr-sections {\n",
       "  padding-left: 0 !important;\n",
       "  display: grid;\n",
       "  grid-template-columns: 150px auto auto 1fr 20px 20px;\n",
       "}\n",
       "\n",
       ".xr-section-item {\n",
       "  display: contents;\n",
       "}\n",
       "\n",
       ".xr-section-item input {\n",
       "  display: none;\n",
       "}\n",
       "\n",
       ".xr-section-item input + label {\n",
       "  color: var(--xr-disabled-color);\n",
       "}\n",
       "\n",
       ".xr-section-item input:enabled + label {\n",
       "  cursor: pointer;\n",
       "  color: var(--xr-font-color2);\n",
       "}\n",
       "\n",
       ".xr-section-item input:enabled + label:hover {\n",
       "  color: var(--xr-font-color0);\n",
       "}\n",
       "\n",
       ".xr-section-summary {\n",
       "  grid-column: 1;\n",
       "  color: var(--xr-font-color2);\n",
       "  font-weight: 500;\n",
       "}\n",
       "\n",
       ".xr-section-summary > span {\n",
       "  display: inline-block;\n",
       "  padding-left: 0.5em;\n",
       "}\n",
       "\n",
       ".xr-section-summary-in:disabled + label {\n",
       "  color: var(--xr-font-color2);\n",
       "}\n",
       "\n",
       ".xr-section-summary-in + label:before {\n",
       "  display: inline-block;\n",
       "  content: '►';\n",
       "  font-size: 11px;\n",
       "  width: 15px;\n",
       "  text-align: center;\n",
       "}\n",
       "\n",
       ".xr-section-summary-in:disabled + label:before {\n",
       "  color: var(--xr-disabled-color);\n",
       "}\n",
       "\n",
       ".xr-section-summary-in:checked + label:before {\n",
       "  content: '▼';\n",
       "}\n",
       "\n",
       ".xr-section-summary-in:checked + label > span {\n",
       "  display: none;\n",
       "}\n",
       "\n",
       ".xr-section-summary,\n",
       ".xr-section-inline-details {\n",
       "  padding-top: 4px;\n",
       "  padding-bottom: 4px;\n",
       "}\n",
       "\n",
       ".xr-section-inline-details {\n",
       "  grid-column: 2 / -1;\n",
       "}\n",
       "\n",
       ".xr-section-details {\n",
       "  display: none;\n",
       "  grid-column: 1 / -1;\n",
       "  margin-bottom: 5px;\n",
       "}\n",
       "\n",
       ".xr-section-summary-in:checked ~ .xr-section-details {\n",
       "  display: contents;\n",
       "}\n",
       "\n",
       ".xr-array-wrap {\n",
       "  grid-column: 1 / -1;\n",
       "  display: grid;\n",
       "  grid-template-columns: 20px auto;\n",
       "}\n",
       "\n",
       ".xr-array-wrap > label {\n",
       "  grid-column: 1;\n",
       "  vertical-align: top;\n",
       "}\n",
       "\n",
       ".xr-preview {\n",
       "  color: var(--xr-font-color3);\n",
       "}\n",
       "\n",
       ".xr-array-preview,\n",
       ".xr-array-data {\n",
       "  padding: 0 5px !important;\n",
       "  grid-column: 2;\n",
       "}\n",
       "\n",
       ".xr-array-data,\n",
       ".xr-array-in:checked ~ .xr-array-preview {\n",
       "  display: none;\n",
       "}\n",
       "\n",
       ".xr-array-in:checked ~ .xr-array-data,\n",
       ".xr-array-preview {\n",
       "  display: inline-block;\n",
       "}\n",
       "\n",
       ".xr-dim-list {\n",
       "  display: inline-block !important;\n",
       "  list-style: none;\n",
       "  padding: 0 !important;\n",
       "  margin: 0;\n",
       "}\n",
       "\n",
       ".xr-dim-list li {\n",
       "  display: inline-block;\n",
       "  padding: 0;\n",
       "  margin: 0;\n",
       "}\n",
       "\n",
       ".xr-dim-list:before {\n",
       "  content: '(';\n",
       "}\n",
       "\n",
       ".xr-dim-list:after {\n",
       "  content: ')';\n",
       "}\n",
       "\n",
       ".xr-dim-list li:not(:last-child):after {\n",
       "  content: ',';\n",
       "  padding-right: 5px;\n",
       "}\n",
       "\n",
       ".xr-has-index {\n",
       "  font-weight: bold;\n",
       "}\n",
       "\n",
       ".xr-var-list,\n",
       ".xr-var-item {\n",
       "  display: contents;\n",
       "}\n",
       "\n",
       ".xr-var-item > div,\n",
       ".xr-var-item label,\n",
       ".xr-var-item > .xr-var-name span {\n",
       "  background-color: var(--xr-background-color-row-even);\n",
       "  margin-bottom: 0;\n",
       "}\n",
       "\n",
       ".xr-var-item > .xr-var-name:hover span {\n",
       "  padding-right: 5px;\n",
       "}\n",
       "\n",
       ".xr-var-list > li:nth-child(odd) > div,\n",
       ".xr-var-list > li:nth-child(odd) > label,\n",
       ".xr-var-list > li:nth-child(odd) > .xr-var-name span {\n",
       "  background-color: var(--xr-background-color-row-odd);\n",
       "}\n",
       "\n",
       ".xr-var-name {\n",
       "  grid-column: 1;\n",
       "}\n",
       "\n",
       ".xr-var-dims {\n",
       "  grid-column: 2;\n",
       "}\n",
       "\n",
       ".xr-var-dtype {\n",
       "  grid-column: 3;\n",
       "  text-align: right;\n",
       "  color: var(--xr-font-color2);\n",
       "}\n",
       "\n",
       ".xr-var-preview {\n",
       "  grid-column: 4;\n",
       "}\n",
       "\n",
       ".xr-index-preview {\n",
       "  grid-column: 2 / 5;\n",
       "  color: var(--xr-font-color2);\n",
       "}\n",
       "\n",
       ".xr-var-name,\n",
       ".xr-var-dims,\n",
       ".xr-var-dtype,\n",
       ".xr-preview,\n",
       ".xr-attrs dt {\n",
       "  white-space: nowrap;\n",
       "  overflow: hidden;\n",
       "  text-overflow: ellipsis;\n",
       "  padding-right: 10px;\n",
       "}\n",
       "\n",
       ".xr-var-name:hover,\n",
       ".xr-var-dims:hover,\n",
       ".xr-var-dtype:hover,\n",
       ".xr-attrs dt:hover {\n",
       "  overflow: visible;\n",
       "  width: auto;\n",
       "  z-index: 1;\n",
       "}\n",
       "\n",
       ".xr-var-attrs,\n",
       ".xr-var-data,\n",
       ".xr-index-data {\n",
       "  display: none;\n",
       "  background-color: var(--xr-background-color) !important;\n",
       "  padding-bottom: 5px !important;\n",
       "}\n",
       "\n",
       ".xr-var-attrs-in:checked ~ .xr-var-attrs,\n",
       ".xr-var-data-in:checked ~ .xr-var-data,\n",
       ".xr-index-data-in:checked ~ .xr-index-data {\n",
       "  display: block;\n",
       "}\n",
       "\n",
       ".xr-var-data > table {\n",
       "  float: right;\n",
       "}\n",
       "\n",
       ".xr-var-name span,\n",
       ".xr-var-data,\n",
       ".xr-index-name div,\n",
       ".xr-index-data,\n",
       ".xr-attrs {\n",
       "  padding-left: 25px !important;\n",
       "}\n",
       "\n",
       ".xr-attrs,\n",
       ".xr-var-attrs,\n",
       ".xr-var-data,\n",
       ".xr-index-data {\n",
       "  grid-column: 1 / -1;\n",
       "}\n",
       "\n",
       "dl.xr-attrs {\n",
       "  padding: 0;\n",
       "  margin: 0;\n",
       "  display: grid;\n",
       "  grid-template-columns: 125px auto;\n",
       "}\n",
       "\n",
       ".xr-attrs dt,\n",
       ".xr-attrs dd {\n",
       "  padding: 0;\n",
       "  margin: 0;\n",
       "  float: left;\n",
       "  padding-right: 10px;\n",
       "  width: auto;\n",
       "}\n",
       "\n",
       ".xr-attrs dt {\n",
       "  font-weight: normal;\n",
       "  grid-column: 1;\n",
       "}\n",
       "\n",
       ".xr-attrs dt:hover span {\n",
       "  display: inline-block;\n",
       "  background: var(--xr-background-color);\n",
       "  padding-right: 10px;\n",
       "}\n",
       "\n",
       ".xr-attrs dd {\n",
       "  grid-column: 2;\n",
       "  white-space: pre-wrap;\n",
       "  word-break: break-all;\n",
       "}\n",
       "\n",
       ".xr-icon-database,\n",
       ".xr-icon-file-text2,\n",
       ".xr-no-icon {\n",
       "  display: inline-block;\n",
       "  vertical-align: middle;\n",
       "  width: 1em;\n",
       "  height: 1.5em !important;\n",
       "  stroke-width: 0;\n",
       "  stroke: currentColor;\n",
       "  fill: currentColor;\n",
       "}\n",
       "</style><pre class='xr-text-repr-fallback'>&lt;xarray.DataArray &#x27;spike_counts&#x27; (stimulus_presentation_id: 120,\n",
       "                                  time_relative_to_stimulus_onset: 198,\n",
       "                                  unit_id: 94)&gt;\n",
       "array([[[0, 0, 0, ..., 0, 0, 0],\n",
       "        [0, 0, 0, ..., 0, 0, 0],\n",
       "        [0, 0, 0, ..., 0, 0, 0],\n",
       "        ...,\n",
       "        [0, 0, 0, ..., 0, 0, 0],\n",
       "        [0, 0, 0, ..., 0, 0, 0],\n",
       "        [0, 0, 0, ..., 0, 0, 0]],\n",
       "\n",
       "       [[0, 0, 0, ..., 0, 0, 0],\n",
       "        [0, 0, 0, ..., 0, 0, 0],\n",
       "        [0, 0, 0, ..., 0, 0, 0],\n",
       "        ...,\n",
       "        [0, 0, 0, ..., 0, 0, 0],\n",
       "        [0, 0, 0, ..., 0, 0, 0],\n",
       "        [0, 0, 0, ..., 0, 0, 0]],\n",
       "\n",
       "       [[0, 0, 1, ..., 0, 0, 0],\n",
       "        [0, 0, 0, ..., 0, 0, 0],\n",
       "        [0, 0, 0, ..., 0, 0, 0],\n",
       "        ...,\n",
       "...\n",
       "        ...,\n",
       "        [0, 0, 1, ..., 0, 0, 0],\n",
       "        [0, 0, 0, ..., 0, 0, 0],\n",
       "        [0, 0, 0, ..., 0, 1, 0]],\n",
       "\n",
       "       [[0, 0, 0, ..., 0, 0, 0],\n",
       "        [0, 0, 0, ..., 0, 0, 0],\n",
       "        [0, 0, 0, ..., 0, 0, 0],\n",
       "        ...,\n",
       "        [0, 0, 0, ..., 0, 1, 0],\n",
       "        [1, 0, 1, ..., 1, 0, 0],\n",
       "        [0, 0, 0, ..., 0, 0, 0]],\n",
       "\n",
       "       [[0, 0, 0, ..., 0, 0, 0],\n",
       "        [1, 0, 0, ..., 0, 0, 0],\n",
       "        [0, 0, 0, ..., 0, 0, 0],\n",
       "        ...,\n",
       "        [0, 0, 1, ..., 1, 1, 0],\n",
       "        [1, 0, 0, ..., 0, 0, 0],\n",
       "        [0, 0, 1, ..., 0, 0, 0]]], dtype=uint16)\n",
       "Coordinates:\n",
       "  * stimulus_presentation_id         (stimulus_presentation_id) int64 3918 .....\n",
       "  * time_relative_to_stimulus_onset  (time_relative_to_stimulus_onset) float64 ...\n",
       "  * unit_id                          (unit_id) int64 951103958 ... 951102411</pre><div class='xr-wrap' style='display:none'><div class='xr-header'><div class='xr-obj-type'>xarray.DataArray</div><div class='xr-array-name'>'spike_counts'</div><ul class='xr-dim-list'><li><span class='xr-has-index'>stimulus_presentation_id</span>: 120</li><li><span class='xr-has-index'>time_relative_to_stimulus_onset</span>: 198</li><li><span class='xr-has-index'>unit_id</span>: 94</li></ul></div><ul class='xr-sections'><li class='xr-section-item'><div class='xr-array-wrap'><input id='section-92ed3667-3a76-46b4-9448-5939906c8797' class='xr-array-in' type='checkbox' checked><label for='section-92ed3667-3a76-46b4-9448-5939906c8797' title='Show/hide data repr'><svg class='icon xr-icon-database'><use xlink:href='#icon-database'></use></svg></label><div class='xr-array-preview xr-preview'><span>0 0 0 0 0 0 0 0 0 0 0 0 0 0 0 0 0 ... 0 0 0 0 0 0 0 0 1 0 0 0 0 0 0 0</span></div><div class='xr-array-data'><pre>array([[[0, 0, 0, ..., 0, 0, 0],\n",
       "        [0, 0, 0, ..., 0, 0, 0],\n",
       "        [0, 0, 0, ..., 0, 0, 0],\n",
       "        ...,\n",
       "        [0, 0, 0, ..., 0, 0, 0],\n",
       "        [0, 0, 0, ..., 0, 0, 0],\n",
       "        [0, 0, 0, ..., 0, 0, 0]],\n",
       "\n",
       "       [[0, 0, 0, ..., 0, 0, 0],\n",
       "        [0, 0, 0, ..., 0, 0, 0],\n",
       "        [0, 0, 0, ..., 0, 0, 0],\n",
       "        ...,\n",
       "        [0, 0, 0, ..., 0, 0, 0],\n",
       "        [0, 0, 0, ..., 0, 0, 0],\n",
       "        [0, 0, 0, ..., 0, 0, 0]],\n",
       "\n",
       "       [[0, 0, 1, ..., 0, 0, 0],\n",
       "        [0, 0, 0, ..., 0, 0, 0],\n",
       "        [0, 0, 0, ..., 0, 0, 0],\n",
       "        ...,\n",
       "...\n",
       "        ...,\n",
       "        [0, 0, 1, ..., 0, 0, 0],\n",
       "        [0, 0, 0, ..., 0, 0, 0],\n",
       "        [0, 0, 0, ..., 0, 1, 0]],\n",
       "\n",
       "       [[0, 0, 0, ..., 0, 0, 0],\n",
       "        [0, 0, 0, ..., 0, 0, 0],\n",
       "        [0, 0, 0, ..., 0, 0, 0],\n",
       "        ...,\n",
       "        [0, 0, 0, ..., 0, 1, 0],\n",
       "        [1, 0, 1, ..., 1, 0, 0],\n",
       "        [0, 0, 0, ..., 0, 0, 0]],\n",
       "\n",
       "       [[0, 0, 0, ..., 0, 0, 0],\n",
       "        [1, 0, 0, ..., 0, 0, 0],\n",
       "        [0, 0, 0, ..., 0, 0, 0],\n",
       "        ...,\n",
       "        [0, 0, 1, ..., 1, 1, 0],\n",
       "        [1, 0, 0, ..., 0, 0, 0],\n",
       "        [0, 0, 1, ..., 0, 0, 0]]], dtype=uint16)</pre></div></div></li><li class='xr-section-item'><input id='section-0b57a947-920a-4959-90bd-1fb22c6453ac' class='xr-section-summary-in' type='checkbox'  checked><label for='section-0b57a947-920a-4959-90bd-1fb22c6453ac' class='xr-section-summary' >Coordinates: <span>(3)</span></label><div class='xr-section-inline-details'></div><div class='xr-section-details'><ul class='xr-var-list'><li class='xr-var-item'><div class='xr-var-name'><span class='xr-has-index'>stimulus_presentation_id</span></div><div class='xr-var-dims'>(stimulus_presentation_id)</div><div class='xr-var-dtype'>int64</div><div class='xr-var-preview xr-preview'>3918 49248 49325 ... 3842 31044</div><input id='attrs-9e540cf5-7358-4a09-8aa2-a1ad5bb0013e' class='xr-var-attrs-in' type='checkbox' disabled><label for='attrs-9e540cf5-7358-4a09-8aa2-a1ad5bb0013e' title='Show/Hide attributes'><svg class='icon xr-icon-file-text2'><use xlink:href='#icon-file-text2'></use></svg></label><input id='data-556a7caf-85c1-4932-8d9f-9ad01d482b04' class='xr-var-data-in' type='checkbox'><label for='data-556a7caf-85c1-4932-8d9f-9ad01d482b04' title='Show/Hide data repr'><svg class='icon xr-icon-database'><use xlink:href='#icon-database'></use></svg></label><div class='xr-var-attrs'><dl class='xr-attrs'></dl></div><div class='xr-var-data'><pre>array([ 3918, 49248, 49325, 49386,  3961, 31088,  3971, 31119, 49310, 31150,\n",
       "       49406, 49265, 49413, 49214, 49207, 49285,  3957,  3929,  3926, 49330,\n",
       "       31063,  3877, 49350, 49371, 31103, 31192,  3839, 31183, 49336,  3825,\n",
       "       31102, 49276, 31032,  3821, 31023, 31083, 31005, 49393, 49321, 49205,\n",
       "        3954,  3927, 49356, 49312, 49425, 31084, 49222, 31130,  3965, 31018,\n",
       "       49292, 49318, 49331, 49337,  3865,  3863,  3830,  3809, 31060, 31121,\n",
       "       49278, 49348, 49387, 49396,  3799, 31111, 31059,  3827,  3939,  3847,\n",
       "        3908,  3887, 31115,  3874,  3883,  3902,  3871, 49375, 49377, 49388,\n",
       "       49402,  3868, 31057,  3982, 31107, 31138, 31113, 31101, 49213, 31087,\n",
       "        3802, 49382, 49379, 31109, 49369, 49363, 49273, 31136,  3903, 31006,\n",
       "       49300,  3991, 49308, 49229, 49267,  3985, 31025,  3818, 49398,  3823,\n",
       "       49329, 31158, 31168, 31069, 31068, 49423,  3990, 49204,  3842, 31044])</pre></div></li><li class='xr-var-item'><div class='xr-var-name'><span class='xr-has-index'>time_relative_to_stimulus_onset</span></div><div class='xr-var-dims'>(time_relative_to_stimulus_onset)</div><div class='xr-var-dtype'>float64</div><div class='xr-var-preview xr-preview'>0.005 0.015 0.025 ... 1.965 1.975</div><input id='attrs-f7f725bb-9608-421b-ae0d-89425d606aa0' class='xr-var-attrs-in' type='checkbox' disabled><label for='attrs-f7f725bb-9608-421b-ae0d-89425d606aa0' title='Show/Hide attributes'><svg class='icon xr-icon-file-text2'><use xlink:href='#icon-file-text2'></use></svg></label><input id='data-44077243-967a-457f-ba2d-fe6aafa551be' class='xr-var-data-in' type='checkbox'><label for='data-44077243-967a-457f-ba2d-fe6aafa551be' title='Show/Hide data repr'><svg class='icon xr-icon-database'><use xlink:href='#icon-database'></use></svg></label><div class='xr-var-attrs'><dl class='xr-attrs'></dl></div><div class='xr-var-data'><pre>array([0.005, 0.015, 0.025, 0.035, 0.045, 0.055, 0.065, 0.075, 0.085, 0.095,\n",
       "       0.105, 0.115, 0.125, 0.135, 0.145, 0.155, 0.165, 0.175, 0.185, 0.195,\n",
       "       0.205, 0.215, 0.225, 0.235, 0.245, 0.255, 0.265, 0.275, 0.285, 0.295,\n",
       "       0.305, 0.315, 0.325, 0.335, 0.345, 0.355, 0.365, 0.375, 0.385, 0.395,\n",
       "       0.405, 0.415, 0.425, 0.435, 0.445, 0.455, 0.465, 0.475, 0.485, 0.495,\n",
       "       0.505, 0.515, 0.525, 0.535, 0.545, 0.555, 0.565, 0.575, 0.585, 0.595,\n",
       "       0.605, 0.615, 0.625, 0.635, 0.645, 0.655, 0.665, 0.675, 0.685, 0.695,\n",
       "       0.705, 0.715, 0.725, 0.735, 0.745, 0.755, 0.765, 0.775, 0.785, 0.795,\n",
       "       0.805, 0.815, 0.825, 0.835, 0.845, 0.855, 0.865, 0.875, 0.885, 0.895,\n",
       "       0.905, 0.915, 0.925, 0.935, 0.945, 0.955, 0.965, 0.975, 0.985, 0.995,\n",
       "       1.005, 1.015, 1.025, 1.035, 1.045, 1.055, 1.065, 1.075, 1.085, 1.095,\n",
       "       1.105, 1.115, 1.125, 1.135, 1.145, 1.155, 1.165, 1.175, 1.185, 1.195,\n",
       "       1.205, 1.215, 1.225, 1.235, 1.245, 1.255, 1.265, 1.275, 1.285, 1.295,\n",
       "       1.305, 1.315, 1.325, 1.335, 1.345, 1.355, 1.365, 1.375, 1.385, 1.395,\n",
       "       1.405, 1.415, 1.425, 1.435, 1.445, 1.455, 1.465, 1.475, 1.485, 1.495,\n",
       "       1.505, 1.515, 1.525, 1.535, 1.545, 1.555, 1.565, 1.575, 1.585, 1.595,\n",
       "       1.605, 1.615, 1.625, 1.635, 1.645, 1.655, 1.665, 1.675, 1.685, 1.695,\n",
       "       1.705, 1.715, 1.725, 1.735, 1.745, 1.755, 1.765, 1.775, 1.785, 1.795,\n",
       "       1.805, 1.815, 1.825, 1.835, 1.845, 1.855, 1.865, 1.875, 1.885, 1.895,\n",
       "       1.905, 1.915, 1.925, 1.935, 1.945, 1.955, 1.965, 1.975])</pre></div></li><li class='xr-var-item'><div class='xr-var-name'><span class='xr-has-index'>unit_id</span></div><div class='xr-var-dims'>(unit_id)</div><div class='xr-var-dtype'>int64</div><div class='xr-var-preview xr-preview'>951103958 951104719 ... 951102411</div><input id='attrs-ba00dc0d-6f36-43dc-a555-b7b0a5f6553b' class='xr-var-attrs-in' type='checkbox' disabled><label for='attrs-ba00dc0d-6f36-43dc-a555-b7b0a5f6553b' title='Show/Hide attributes'><svg class='icon xr-icon-file-text2'><use xlink:href='#icon-file-text2'></use></svg></label><input id='data-6ba4c70d-b3d9-495c-aa07-310152fdf17c' class='xr-var-data-in' type='checkbox'><label for='data-6ba4c70d-b3d9-495c-aa07-310152fdf17c' title='Show/Hide data repr'><svg class='icon xr-icon-database'><use xlink:href='#icon-database'></use></svg></label><div class='xr-var-attrs'><dl class='xr-attrs'></dl></div><div class='xr-var-data'><pre>array([951103958, 951104719, 951104510, 951104421, 951104488, 951104296,\n",
       "       951104410, 951105306, 951103854, 951103779, 951105202, 951103518,\n",
       "       951103553, 951103332, 951103262, 951104832, 951102601, 951102860,\n",
       "       951104192, 951102934, 951105231, 951103380, 951104031, 951103889,\n",
       "       951102820, 951103671, 951103163, 951104075, 951103691, 951104695,\n",
       "       951105349, 951102922, 951102686, 951102555, 951104239, 951102623,\n",
       "       951105319, 951104532, 951103498, 951104112, 951102673, 951105334,\n",
       "       951103150, 951102534, 951103810, 951105282, 951105266, 951103948,\n",
       "       951103757, 951104332, 951104555, 951102962, 951103530, 951105377,\n",
       "       951104308, 951102834, 951103361, 951103768, 951104544, 951103877,\n",
       "       951103290, 951103632, 951104138, 951102646, 951105604, 951103704,\n",
       "       951103589, 951103455, 951102846, 951104661, 951103093, 951103019,\n",
       "       951105558, 951104476, 951102476, 951102976, 951103799, 951104064,\n",
       "       951103420, 951103488, 951104171, 951103624, 951103566, 951103934,\n",
       "       951104086, 951103652, 951103508, 951103735, 951105218, 951103918,\n",
       "       951103238, 951104746, 951103080, 951102411])</pre></div></li></ul></div></li><li class='xr-section-item'><input id='section-f65eaef0-4093-4f58-bc88-4fbe39653d3c' class='xr-section-summary-in' type='checkbox'  ><label for='section-f65eaef0-4093-4f58-bc88-4fbe39653d3c' class='xr-section-summary' >Indexes: <span>(3)</span></label><div class='xr-section-inline-details'></div><div class='xr-section-details'><ul class='xr-var-list'><li class='xr-var-item'><div class='xr-index-name'><div>stimulus_presentation_id</div></div><div class='xr-index-preview'>PandasIndex</div><div></div><input id='index-b6be8639-11b0-4122-a92e-803251af57ac' class='xr-index-data-in' type='checkbox'/><label for='index-b6be8639-11b0-4122-a92e-803251af57ac' title='Show/Hide index repr'><svg class='icon xr-icon-database'><use xlink:href='#icon-database'></use></svg></label><div class='xr-index-data'><pre>PandasIndex(Index([ 3918, 49248, 49325, 49386,  3961, 31088,  3971, 31119, 49310, 31150,\n",
       "       ...\n",
       "       49329, 31158, 31168, 31069, 31068, 49423,  3990, 49204,  3842, 31044],\n",
       "      dtype=&#x27;int64&#x27;, name=&#x27;stimulus_presentation_id&#x27;, length=120))</pre></div></li><li class='xr-var-item'><div class='xr-index-name'><div>time_relative_to_stimulus_onset</div></div><div class='xr-index-preview'>PandasIndex</div><div></div><input id='index-d6a9a84d-da0c-4083-97b2-8b05c5041c5e' class='xr-index-data-in' type='checkbox'/><label for='index-d6a9a84d-da0c-4083-97b2-8b05c5041c5e' title='Show/Hide index repr'><svg class='icon xr-icon-database'><use xlink:href='#icon-database'></use></svg></label><div class='xr-index-data'><pre>PandasIndex(Index([              0.005,               0.015,               0.025,\n",
       "                     0.035,               0.045,               0.055,\n",
       "                     0.065, 0.07500000000000001, 0.08499999999999999,\n",
       "                     0.095,\n",
       "       ...\n",
       "        1.8850000000000002,               1.895,  1.9050000000000002,\n",
       "                     1.915,  1.9249999999999998,               1.935,\n",
       "        1.9449999999999998,               1.955,  1.9649999999999999,\n",
       "                     1.975],\n",
       "      dtype=&#x27;float64&#x27;, name=&#x27;time_relative_to_stimulus_onset&#x27;, length=198))</pre></div></li><li class='xr-var-item'><div class='xr-index-name'><div>unit_id</div></div><div class='xr-index-preview'>PandasIndex</div><div></div><input id='index-512d8e8b-1b3b-4622-a5f0-768ee2479fde' class='xr-index-data-in' type='checkbox'/><label for='index-512d8e8b-1b3b-4622-a5f0-768ee2479fde' title='Show/Hide index repr'><svg class='icon xr-icon-database'><use xlink:href='#icon-database'></use></svg></label><div class='xr-index-data'><pre>PandasIndex(Index([951103958, 951104719, 951104510, 951104421, 951104488, 951104296,\n",
       "       951104410, 951105306, 951103854, 951103779, 951105202, 951103518,\n",
       "       951103553, 951103332, 951103262, 951104832, 951102601, 951102860,\n",
       "       951104192, 951102934, 951105231, 951103380, 951104031, 951103889,\n",
       "       951102820, 951103671, 951103163, 951104075, 951103691, 951104695,\n",
       "       951105349, 951102922, 951102686, 951102555, 951104239, 951102623,\n",
       "       951105319, 951104532, 951103498, 951104112, 951102673, 951105334,\n",
       "       951103150, 951102534, 951103810, 951105282, 951105266, 951103948,\n",
       "       951103757, 951104332, 951104555, 951102962, 951103530, 951105377,\n",
       "       951104308, 951102834, 951103361, 951103768, 951104544, 951103877,\n",
       "       951103290, 951103632, 951104138, 951102646, 951105604, 951103704,\n",
       "       951103589, 951103455, 951102846, 951104661, 951103093, 951103019,\n",
       "       951105558, 951104476, 951102476, 951102976, 951103799, 951104064,\n",
       "       951103420, 951103488, 951104171, 951103624, 951103566, 951103934,\n",
       "       951104086, 951103652, 951103508, 951103735, 951105218, 951103918,\n",
       "       951103238, 951104746, 951103080, 951102411],\n",
       "      dtype=&#x27;int64&#x27;, name=&#x27;unit_id&#x27;))</pre></div></li></ul></div></li><li class='xr-section-item'><input id='section-77bcd9fe-4d1c-40b8-8fb5-9ee5322b073e' class='xr-section-summary-in' type='checkbox' disabled ><label for='section-77bcd9fe-4d1c-40b8-8fb5-9ee5322b073e' class='xr-section-summary'  title='Expand/collapse section'>Attributes: <span>(0)</span></label><div class='xr-section-inline-details'></div><div class='xr-section-details'><dl class='xr-attrs'></dl></div></li></ul></div></div>"
      ],
      "text/plain": [
       "<xarray.DataArray 'spike_counts' (stimulus_presentation_id: 120,\n",
       "                                  time_relative_to_stimulus_onset: 198,\n",
       "                                  unit_id: 94)>\n",
       "array([[[0, 0, 0, ..., 0, 0, 0],\n",
       "        [0, 0, 0, ..., 0, 0, 0],\n",
       "        [0, 0, 0, ..., 0, 0, 0],\n",
       "        ...,\n",
       "        [0, 0, 0, ..., 0, 0, 0],\n",
       "        [0, 0, 0, ..., 0, 0, 0],\n",
       "        [0, 0, 0, ..., 0, 0, 0]],\n",
       "\n",
       "       [[0, 0, 0, ..., 0, 0, 0],\n",
       "        [0, 0, 0, ..., 0, 0, 0],\n",
       "        [0, 0, 0, ..., 0, 0, 0],\n",
       "        ...,\n",
       "        [0, 0, 0, ..., 0, 0, 0],\n",
       "        [0, 0, 0, ..., 0, 0, 0],\n",
       "        [0, 0, 0, ..., 0, 0, 0]],\n",
       "\n",
       "       [[0, 0, 1, ..., 0, 0, 0],\n",
       "        [0, 0, 0, ..., 0, 0, 0],\n",
       "        [0, 0, 0, ..., 0, 0, 0],\n",
       "        ...,\n",
       "...\n",
       "        ...,\n",
       "        [0, 0, 1, ..., 0, 0, 0],\n",
       "        [0, 0, 0, ..., 0, 0, 0],\n",
       "        [0, 0, 0, ..., 0, 1, 0]],\n",
       "\n",
       "       [[0, 0, 0, ..., 0, 0, 0],\n",
       "        [0, 0, 0, ..., 0, 0, 0],\n",
       "        [0, 0, 0, ..., 0, 0, 0],\n",
       "        ...,\n",
       "        [0, 0, 0, ..., 0, 1, 0],\n",
       "        [1, 0, 1, ..., 1, 0, 0],\n",
       "        [0, 0, 0, ..., 0, 0, 0]],\n",
       "\n",
       "       [[0, 0, 0, ..., 0, 0, 0],\n",
       "        [1, 0, 0, ..., 0, 0, 0],\n",
       "        [0, 0, 0, ..., 0, 0, 0],\n",
       "        ...,\n",
       "        [0, 0, 1, ..., 1, 1, 0],\n",
       "        [1, 0, 0, ..., 0, 0, 0],\n",
       "        [0, 0, 1, ..., 0, 0, 0]]], dtype=uint16)\n",
       "Coordinates:\n",
       "  * stimulus_presentation_id         (stimulus_presentation_id) int64 3918 .....\n",
       "  * time_relative_to_stimulus_onset  (time_relative_to_stimulus_onset) float64 ...\n",
       "  * unit_id                          (unit_id) int64 951103958 ... 951102411"
      ]
     },
     "execution_count": 30,
     "metadata": {},
     "output_type": "execute_result"
    }
   ],
   "source": [
    "unit_ids = unit_metrics_VISp.sort_values(by=['pref_ori_dg']).index.values\n",
    "\n",
    "da = session.presentationwise_spike_counts(np.arange(0,1.99,0.01), presentations.index.values, unit_ids)\n",
    "\n",
    "da"
   ]
  },
  {
   "cell_type": "markdown",
   "metadata": {},
   "source": [
    "Now, the `unit_id` dimension has 94 entries instead of one, but the other dimensions are identical.\n",
    "\n",
    "Let's plot the normalized firing rates for all units and all presentations:"
   ]
  },
  {
   "cell_type": "code",
   "execution_count": 32,
   "metadata": {},
   "outputs": [
    {
     "data": {
      "image/png": "[encoded data removed]",
      "text/plain": [
       "<Figure size 720x576 with 2 Axes>"
      ]
     },
     "metadata": {
      "needs_background": "light"
     },
     "output_type": "display_data"
    }
   ],
   "source": [
    "plt.figure(figsize=(10,8))\n",
    "\n",
    "firing_rates = da.sum('time_relative_to_stimulus_onset').T / 2\n",
    "max_rates = firing_rates.max('unit_id')\n",
    "norm_firing_rates = firing_rates / np.tile(max_rates, (len(unit_ids),1))\n",
    "\n",
    "plt.imshow(norm_firing_rates, cmap='RdPu', aspect='auto', vmax=1)\n",
    "plt.xlabel('Presentation index')\n",
    "plt.ylabel('Unit index')\n",
    "plt.colorbar(label='Firing rate', aspect=20)\n",
    "_ = plt.ylim([0, len(unit_ids)])"
   ]
  },
  {
   "cell_type": "markdown",
   "metadata": {},
   "source": [
    "There are a few things worth noting about this plot:\n",
    "\n",
    "- Because we sorted the `presentations` table by orientation, the transitions between the orientation conditions are obvious for many units\n",
    "- A large fraction of units are selective to *orientation* but not *direction*, resulting in similar firing rates for orientations separated by 180 degrees\n",
    "\n",
    "Just from looking at this data, it seems like it will be possible to extract the stimulus orientation from the firing rates within a given trial (the columns in this matrix). We can select one of these columns using the `DataArray.sel` operator:"
   ]
  },
  {
   "cell_type": "code",
   "execution_count": 44,
   "metadata": {},
   "outputs": [
    {
     "data": {
      "text/plain": [
       "<matplotlib.image.AxesImage at 0x7f7b564bf160>"
      ]
     },
     "execution_count": 44,
     "metadata": {},
     "output_type": "execute_result"
    },
    {
     "data": {
      "image/png": "[encoded data removed]",
      "text/plain": [
       "<Figure size 18x720 with 1 Axes>"
      ]
     },
     "metadata": {
      "needs_background": "light"
     },
     "output_type": "display_data"
    }
   ],
   "source": [
    "one_trial = norm_firing_rates.sel(stimulus_presentation_id = presentations.index.values[0])\n",
    "\n",
    "plt.figure(figsize=(0.25,10))\n",
    "\n",
    "plt.imshow(np.expand_dims(one_trial, axis=1), cmap='RdPu', aspect='auto', origin='lower')"
   ]
  },
  {
   "cell_type": "markdown",
   "metadata": {},
   "source": [
    "This represents the normalized firing rate of all units recorded in V1 for a single trial. Let's format the data in such a way that it's possible to feed it into a `scikit-learn` classifier:"
   ]
  },
  {
   "cell_type": "code",
   "execution_count": 46,
   "metadata": {},
   "outputs": [
    {
     "name": "stdout",
     "output_type": "stream",
     "text": [
      "Shape of response matrix: (120, 94)\n",
      "Shape of labels matrix: (120,)\n"
     ]
    }
   ],
   "source": [
    "responses = norm_firing_rates.data.T\n",
    "labels = presentations.orientation.values.astype('int')\n",
    "conditions = np.unique(labels)\n",
    "\n",
    "print(f'Shape of response matrix: {responses.shape}')\n",
    "print(f'Shape of labels matrix: {labels.shape}')"
   ]
  },
  {
   "cell_type": "markdown",
   "metadata": {},
   "source": [
    "The `responses` matrix contains the normalized firing rates for 120 trials and 94 neurons, and the `labels` matrix contains the orientation for 120 trials. Therefore, each trial is represented as a point in a 94-dimensional space. Our goal is to try and draw boundaries in this space that can be used distinguish between the different grating orientations on randomly held out trials.\n",
    "\n",
    "Before we train a classifer, we can visualize what the data looks like when we embed it within a 2-dimensional space using t-SNE:"
   ]
  },
  {
   "cell_type": "code",
   "execution_count": 47,
   "metadata": {},
   "outputs": [
    {
     "data": {
      "text/plain": [
       "<matplotlib.colorbar.Colorbar at 0x7f7b4af44220>"
      ]
     },
     "execution_count": 47,
     "metadata": {},
     "output_type": "execute_result"
    },
    {
     "data": {
      "image/png": "[encoded data removed]",
      "text/plain": [
       "<Figure size 360x360 with 2 Axes>"
      ]
     },
     "metadata": {
      "needs_background": "light"
     },
     "output_type": "display_data"
    }
   ],
   "source": [
    "from sklearn.manifold import TSNE\n",
    "\n",
    "X_embedded = TSNE(n_components=2, learning_rate='auto',\n",
    "                   init='random', perplexity=3).fit_transform(norm_firing_rates.T)\n",
    "\n",
    "plt.figure(figsize=(5,5))\n",
    "plt.scatter(X_embedded[:,0], X_embedded[:,1], c=labels, cmap='tab10')\n",
    "plt.colorbar(label='orientation')"
   ]
  },
  {
   "cell_type": "markdown",
   "metadata": {},
   "source": [
    "`X_embedded` is a 120 x 2 matrix with one 2D point for each trial. We can observe some clustering of trials by condition, indicating that it will likely be possible to train an orientation classifer using this data.\n",
    "\n",
    "Note that t-SNE should only be used to gain a qualitative understanding of patterns in the data. Better methods for quantitative clustering of high-dimensional data will be covered in future tutorials.\n",
    "\n",
    "For example, if we run t-SNE again, the plot looks quite different:"
   ]
  },
  {
   "cell_type": "code",
   "execution_count": 49,
   "metadata": {},
   "outputs": [
    {
     "data": {
      "text/plain": [
       "<matplotlib.colorbar.Colorbar at 0x7f7b46286e20>"
      ]
     },
     "execution_count": 49,
     "metadata": {},
     "output_type": "execute_result"
    },
    {
     "data": {
      "image/png": "[encoded data removed]",
      "text/plain": [
       "<Figure size 360x360 with 2 Axes>"
      ]
     },
     "metadata": {
      "needs_background": "light"
     },
     "output_type": "display_data"
    }
   ],
   "source": [
    "X_embedded = TSNE(n_components=2, learning_rate='auto',\n",
    "                   init='random', perplexity=3).fit_transform(norm_firing_rates.T)\n",
    "\n",
    "plt.figure(figsize=(5,5))\n",
    "plt.scatter(X_embedded[:,0], X_embedded[:,1], c=labels, cmap='tab10')\n",
    "plt.colorbar(label='orientation')"
   ]
  },
  {
   "cell_type": "markdown",
   "metadata": {},
   "source": [
    "## Training a classifier on population spiking data\n",
    "\n",
    "In order to determine how well we can decode the stimulus direction from population activity, we will train a classifier on our matrix of firing rates. Let's start with a Support Vector Machine (SVM) classifier, which will try to draw linear boundaries between conditions in our 94-dimensional firing rate space: "
   ]
  },
  {
   "cell_type": "code",
   "execution_count": 56,
   "metadata": {},
   "outputs": [],
   "source": [
    "from sklearn import svm\n",
    "from sklearn.model_selection import KFold\n",
    "from sklearn.metrics import confusion_matrix"
   ]
  },
  {
   "cell_type": "markdown",
   "metadata": {},
   "source": [
    "We will first select a random subset of trials for training the classifier:"
   ]
  },
  {
   "cell_type": "code",
   "execution_count": 54,
   "metadata": {},
   "outputs": [],
   "source": [
    "total_presentations = responses.shape[0]\n",
    "num_train = int(total_presentations * 0.75)\n",
    "random_trial_order = np.random.permutation(responses.shape[0])\n",
    "train_indices = random_trial_order[:num_train]\n",
    "\n",
    "training_data = responses[train_indices]\n",
    "training_labels = labels[train_indices]"
   ]
  },
  {
   "cell_type": "markdown",
   "metadata": {},
   "source": [
    "Next, we'll create the model and fit it to our training data:"
   ]
  },
  {
   "cell_type": "code",
   "execution_count": 57,
   "metadata": {},
   "outputs": [
    {
     "data": {
      "text/html": [
       "<style>#sk-container-id-1 {color: black;}#sk-container-id-1 pre{padding: 0;}#sk-container-id-1 div.sk-toggleable {background-color: white;}#sk-container-id-1 label.sk-toggleable__label {cursor: pointer;display: block;width: 100%;margin-bottom: 0;padding: 0.3em;box-sizing: border-box;text-align: center;}#sk-container-id-1 label.sk-toggleable__label-arrow:before {content: \"▸\";float: left;margin-right: 0.25em;color: #696969;}#sk-container-id-1 label.sk-toggleable__label-arrow:hover:before {color: black;}#sk-container-id-1 div.sk-estimator:hover label.sk-toggleable__label-arrow:before {color: black;}#sk-container-id-1 div.sk-toggleable__content {max-height: 0;max-width: 0;overflow: hidden;text-align: left;background-color: #f0f8ff;}#sk-container-id-1 div.sk-toggleable__content pre {margin: 0.2em;color: black;border-radius: 0.25em;background-color: #f0f8ff;}#sk-container-id-1 input.sk-toggleable__control:checked~div.sk-toggleable__content {max-height: 200px;max-width: 100%;overflow: auto;}#sk-container-id-1 input.sk-toggleable__control:checked~label.sk-toggleable__label-arrow:before {content: \"▾\";}#sk-container-id-1 div.sk-estimator input.sk-toggleable__control:checked~label.sk-toggleable__label {background-color: #d4ebff;}#sk-container-id-1 div.sk-label input.sk-toggleable__control:checked~label.sk-toggleable__label {background-color: #d4ebff;}#sk-container-id-1 input.sk-hidden--visually {border: 0;clip: rect(1px 1px 1px 1px);clip: rect(1px, 1px, 1px, 1px);height: 1px;margin: -1px;overflow: hidden;padding: 0;position: absolute;width: 1px;}#sk-container-id-1 div.sk-estimator {font-family: monospace;background-color: #f0f8ff;border: 1px dotted black;border-radius: 0.25em;box-sizing: border-box;margin-bottom: 0.5em;}#sk-container-id-1 div.sk-estimator:hover {background-color: #d4ebff;}#sk-container-id-1 div.sk-parallel-item::after {content: \"\";width: 100%;border-bottom: 1px solid gray;flex-grow: 1;}#sk-container-id-1 div.sk-label:hover label.sk-toggleable__label {background-color: #d4ebff;}#sk-container-id-1 div.sk-serial::before {content: \"\";position: absolute;border-left: 1px solid gray;box-sizing: border-box;top: 0;bottom: 0;left: 50%;z-index: 0;}#sk-container-id-1 div.sk-serial {display: flex;flex-direction: column;align-items: center;background-color: white;padding-right: 0.2em;padding-left: 0.2em;position: relative;}#sk-container-id-1 div.sk-item {position: relative;z-index: 1;}#sk-container-id-1 div.sk-parallel {display: flex;align-items: stretch;justify-content: center;background-color: white;position: relative;}#sk-container-id-1 div.sk-item::before, #sk-container-id-1 div.sk-parallel-item::before {content: \"\";position: absolute;border-left: 1px solid gray;box-sizing: border-box;top: 0;bottom: 0;left: 50%;z-index: -1;}#sk-container-id-1 div.sk-parallel-item {display: flex;flex-direction: column;z-index: 1;position: relative;background-color: white;}#sk-container-id-1 div.sk-parallel-item:first-child::after {align-self: flex-end;width: 50%;}#sk-container-id-1 div.sk-parallel-item:last-child::after {align-self: flex-start;width: 50%;}#sk-container-id-1 div.sk-parallel-item:only-child::after {width: 0;}#sk-container-id-1 div.sk-dashed-wrapped {border: 1px dashed gray;margin: 0 0.4em 0.5em 0.4em;box-sizing: border-box;padding-bottom: 0.4em;background-color: white;}#sk-container-id-1 div.sk-label label {font-family: monospace;font-weight: bold;display: inline-block;line-height: 1.2em;}#sk-container-id-1 div.sk-label-container {text-align: center;}#sk-container-id-1 div.sk-container {/* jupyter's `normalize.less` sets `[hidden] { display: none; }` but bootstrap.min.css set `[hidden] { display: none !important; }` so we also need the `!important` here to be able to override the default hidden behavior on the sphinx rendered scikit-learn.org. See: https://github.com/scikit-learn/scikit-learn/issues/21755 */display: inline-block !important;position: relative;}#sk-container-id-1 div.sk-text-repr-fallback {display: none;}</style><div id=\"sk-container-id-1\" class=\"sk-top-container\"><div class=\"sk-text-repr-fallback\"><pre>SVC(kernel=&#x27;linear&#x27;)</pre><b>In a Jupyter environment, please rerun this cell to show the HTML representation or trust the notebook. <br />On GitHub, the HTML representation is unable to render, please try loading this page with nbviewer.org.</b></div><div class=\"sk-container\" hidden><div class=\"sk-item\"><div class=\"sk-estimator sk-toggleable\"><input class=\"sk-toggleable__control sk-hidden--visually\" id=\"sk-estimator-id-1\" type=\"checkbox\" checked><label for=\"sk-estimator-id-1\" class=\"sk-toggleable__label sk-toggleable__label-arrow\">SVC</label><div class=\"sk-toggleable__content\"><pre>SVC(kernel=&#x27;linear&#x27;)</pre></div></div></div></div></div>"
      ],
      "text/plain": [
       "SVC(kernel='linear')"
      ]
     },
     "execution_count": 57,
     "metadata": {},
     "output_type": "execute_result"
    }
   ],
   "source": [
    "clf = svm.SVC(gamma=\"scale\", kernel=\"linear\")\n",
    "clf.fit(responses[train_indices], labels[train_indices])\n",
    "\n",
    "clf"
   ]
  },
  {
   "cell_type": "markdown",
   "metadata": {},
   "source": [
    "Now that our model has been trained, we can ask it to classify unlabeled data (i.e., the sets of population firing rates that were not included in our original training set):"
   ]
  },
  {
   "cell_type": "code",
   "execution_count": 58,
   "metadata": {},
   "outputs": [],
   "source": [
    "test_indices = random_trial_order[num_train:]\n",
    "\n",
    "test_data = responses[test_indices]\n",
    "predicted_labels = clf.predict(responses[test_indices])"
   ]
  },
  {
   "cell_type": "markdown",
   "metadata": {},
   "source": [
    "We can compare the predicted labels to the actual labels in order to assess the classifier's performance:"
   ]
  },
  {
   "cell_type": "code",
   "execution_count": 77,
   "metadata": {},
   "outputs": [
    {
     "data": {
      "text/plain": [
       "Text(0.5, 0, 'Predicted direction (degrees)')"
      ]
     },
     "execution_count": 77,
     "metadata": {},
     "output_type": "execute_result"
    },
    {
     "data": {
      "image/png": "[encoded data removed]",
      "text/plain": [
       "<Figure size 360x360 with 1 Axes>"
      ]
     },
     "metadata": {
      "needs_background": "light"
     },
     "output_type": "display_data"
    }
   ],
   "source": [
    "actual_labels = labels[test_indices]\n",
    "\n",
    "accuracy = 1 - (np.count_nonzero(predicted_labels - actual_labels) / predicted_labels.size)\n",
    "\n",
    "plt.figure(figsize=(5,5))\n",
    "plt.scatter(actual_labels + np.random.rand(len(test_indices)) * 20, \n",
    "            predicted_labels + np.random.rand(len(test_indices)) * 20, \n",
    "           s=6)\n",
    "plt.plot([0,360],[0,360],'--k', alpha=0.1)\n",
    "\n",
    "plt.title(f'Classification accuracy: {accuracy}')\n",
    "plt.xlabel('Actual direction (degrees)')\n",
    "plt.xlabel('Predicted direction (degrees)')"
   ]
  },
  {
   "cell_type": "markdown",
   "metadata": {},
   "source": [
    "Here, we see that most of the trials are predicted correctly (values on the diagonal line), but it's making some mistakes (off-diagonal points). This indicates that the firing rates of our recorded population do contain information about grating direction, but there are some trials in which the direction is ambiguous, at least to this type of classifier.\n",
    "\n",
    "We can get a better sense of classification performance by using the `scikit-learn.model_selection.KFold` iterator to automatically split up the data into \"train\" and \"test\" sets for 5 iterations. Note that the model is fit independently on each iteration."
   ]
  },
  {
   "cell_type": "code",
   "execution_count": 78,
   "metadata": {},
   "outputs": [
    {
     "name": "stdout",
     "output_type": "stream",
     "text": [
      "0.875\n",
      "0.7083333333333333\n",
      "0.6666666666666667\n",
      "0.9166666666666666\n",
      "0.875\n",
      "\n",
      "mean accuracy: 0.8083333333333332\n",
      "chance: 0.125\n"
     ]
    }
   ],
   "source": [
    "accuracies = []\n",
    "confusions = []\n",
    "\n",
    "for train_indices, test_indices in KFold(n_splits=5, shuffle=True).split(responses):\n",
    "    \n",
    "    clf = svm.SVC(gamma=\"scale\", kernel=\"linear\")\n",
    "    clf.fit(responses[train_indices], labels[train_indices])\n",
    "    \n",
    "    test_targets = labels[test_indices]\n",
    "    test_predictions = clf.predict(responses[test_indices])\n",
    "    \n",
    "    accuracy = 1 - (np.count_nonzero(test_predictions - test_targets) / test_predictions.size)\n",
    "    print(accuracy)\n",
    "    \n",
    "    accuracies.append(accuracy)\n",
    "    confusions.append(confusion_matrix(y_true=test_targets, y_pred=test_predictions, labels=conditions))\n",
    "    \n",
    "print(f\"\\nmean accuracy: {np.mean(accuracies)}\")\n",
    "print(f\"chance: {1/conditions.size}\")"
   ]
  },
  {
   "cell_type": "markdown",
   "metadata": {},
   "source": [
    "Our SVM model performs much better than chance levels, for which we'd expect a classification accuracy of 12.5%.\n",
    "\n",
    "We can visualize its performance in more detail using a confusion metrix:"
   ]
  },
  {
   "cell_type": "code",
   "execution_count": 29,
   "metadata": {},
   "outputs": [
    {
     "data": {
      "image/png": "[encoded data removed]",
      "text/plain": [
       "<Figure size 432x432 with 2 Axes>"
      ]
     },
     "metadata": {
      "needs_background": "light"
     },
     "output_type": "display_data"
    }
   ],
   "source": [
    "def plot_confusion_matrix(confusions):\n",
    "    \n",
    "    plt.figure(figsize=(6,6))\n",
    "    \n",
    "    mean_confusion = np.mean(confusions, axis=0)\n",
    "\n",
    "    plt.imshow(mean_confusion)\n",
    "    plt.colorbar()\n",
    "\n",
    "    plt.xlabel(\"actual\")\n",
    "    plt.ylabel(\"predicted\")\n",
    "    \n",
    "plot_confusion_matrix(confusions)"
   ]
  },
  {
   "cell_type": "markdown",
   "metadata": {},
   "source": [
    "When the model makes mistakes, it tends to mis-classify trials by 180 degrees, which is expected given the fact that many units are selective to orientation but not direction.\n",
    "\n",
    "To try to avoid some of these errors, we can try a nonlinear classifier (Random Forest) which uses a set of decision trees to determine the label for each trial:"
   ]
  },
  {
   "cell_type": "code",
   "execution_count": 84,
   "metadata": {},
   "outputs": [
    {
     "name": "stdout",
     "output_type": "stream",
     "text": [
      "0.875\n",
      "1.0\n",
      "0.9583333333333334\n",
      "0.7916666666666666\n",
      "0.9583333333333334\n",
      "\n",
      "mean accuracy: 0.9166666666666666\n",
      "chance: 0.125\n"
     ]
    }
   ],
   "source": [
    "from sklearn.ensemble import RandomForestClassifier\n",
    "\n",
    "accuracies = []\n",
    "confusions = []\n",
    "\n",
    "for train_indices, test_indices in KFold(n_splits=5, shuffle=True).split(responses):\n",
    "    \n",
    "    clf = RandomForestClassifier()\n",
    "    clf.fit(responses[train_indices], labels[train_indices])\n",
    "    \n",
    "    test_targets = labels[test_indices]\n",
    "    test_predictions = clf.predict(responses[test_indices])\n",
    "    \n",
    "    accuracy = 1 - (np.count_nonzero(test_predictions - test_targets) / test_predictions.size)\n",
    "    print(accuracy)\n",
    "    \n",
    "    accuracies.append(accuracy)\n",
    "    confusions.append(confusion_matrix(y_true=test_targets, y_pred=test_predictions, labels=conditions))\n",
    "    \n",
    "print(f\"\\nmean accuracy: {np.mean(accuracies)}\")\n",
    "print(f\"chance: {1/conditions.size}\")"
   ]
  },
  {
   "cell_type": "markdown",
   "metadata": {},
   "source": [
    "This model appears to be doing even better than the SVM."
   ]
  },
  {
   "cell_type": "code",
   "execution_count": 31,
   "metadata": {},
   "outputs": [
    {
     "data": {
      "image/png": "[encoded data removed]",
      "text/plain": [
       "<Figure size 432x432 with 2 Axes>"
      ]
     },
     "metadata": {
      "needs_background": "light"
     },
     "output_type": "display_data"
    }
   ],
   "source": [
    "plot_confusion_matrix(confusions)"
   ]
  },
  {
   "cell_type": "markdown",
   "metadata": {},
   "source": [
    "**Question:** How can we tell which neurons are most informative to this classifier?"
   ]
  },
  {
   "cell_type": "code",
   "execution_count": null,
   "metadata": {},
   "outputs": [],
   "source": [
    "# insert code here"
   ]
  },
  {
   "cell_type": "markdown",
   "metadata": {},
   "source": [
    "## Relationship between population size and decoding accuracy\n",
    "\n",
    "As a final exercise in this tutorial, we'll examine how the size of the simultaneously recorded population affects decoding accuracy. In any physiology experiment, we only have a very small window into the overall population response. For example, there are about 500,000 neurons in mouse V1, so in this case we are measuring around 0.02% of the firing rates in this region.\n",
    "\n",
    "As the number of simultaneously recorded neurons increases, we expect that our ability to decode stimulus identity will improve. Let's try to get a sense for how this changes with the number of neurons we use to train the classifier:"
   ]
  },
  {
   "cell_type": "code",
   "execution_count": 94,
   "metadata": {},
   "outputs": [
    {
     "name": "stdout",
     "output_type": "stream",
     "text": [
      "total neurons: 5\n",
      "total neurons: 10\n",
      "total neurons: 15\n",
      "total neurons: 20\n",
      "total neurons: 25\n",
      "total neurons: 30\n",
      "total neurons: 35\n",
      "total neurons: 40\n",
      "total neurons: 45\n",
      "total neurons: 50\n",
      "total neurons: 55\n",
      "total neurons: 60\n",
      "total neurons: 65\n",
      "total neurons: 70\n",
      "total neurons: 75\n",
      "total neurons: 80\n",
      "total neurons: 85\n",
      "total neurons: 90\n"
     ]
    }
   ],
   "source": [
    "total_neurons = np.arange(5, responses.shape[1], 5)\n",
    "\n",
    "num_iterations = 10\n",
    "num_splits = 5\n",
    "accuracies = np.zeros((len(total_neurons), num_iterations, num_splits))\n",
    "\n",
    "for ind1, N in enumerate(total_neurons):\n",
    "    \n",
    "    print(f'total neurons: {N}')\n",
    "    \n",
    "    for ind2, iteration in enumerate(range(0,num_iterations)):\n",
    "        \n",
    "        random_neuron_order = np.random.permutation(responses.shape[1])\n",
    "        selected_neurons = random_neuron_order[:N]\n",
    "        responses_subset = responses[:,selected_neurons]\n",
    "        \n",
    "        ind3 = 0\n",
    "\n",
    "        for train_indices, test_indices in KFold(n_splits=num_splits, shuffle=True).split(responses_subset):\n",
    "\n",
    "            clf = RandomForestClassifier()\n",
    "            clf.fit(responses_subset[train_indices], labels[train_indices])\n",
    "\n",
    "            test_targets = labels[test_indices]\n",
    "            test_predictions = clf.predict(responses_subset[test_indices])\n",
    "\n",
    "            accuracy = 1 - (np.count_nonzero(test_predictions - test_targets) / test_predictions.size)\n",
    "            accuracies[ind1, ind2, ind3] = accuracy\n",
    "            \n",
    "            ind3 += 1"
   ]
  },
  {
   "cell_type": "markdown",
   "metadata": {},
   "source": [
    "We can visualize the relationship between neuron count and classification accuracy by averaging over the training splits and iterations:"
   ]
  },
  {
   "cell_type": "code",
   "execution_count": 95,
   "metadata": {},
   "outputs": [
    {
     "data": {
      "text/plain": [
       "Text(0, 0.5, 'Mean classification accuracy')"
      ]
     },
     "execution_count": 95,
     "metadata": {},
     "output_type": "execute_result"
    },
    {
     "data": {
      "image/png": "[encoded data removed]",
      "text/plain": [
       "<Figure size 432x288 with 1 Axes>"
      ]
     },
     "metadata": {
      "needs_background": "light"
     },
     "output_type": "display_data"
    }
   ],
   "source": [
    "plt.plot(total_neurons, np.mean(np.mean(accuracies,2),1))\n",
    "plt.xlabel('Total neurons')\n",
    "plt.ylabel('Mean classification accuracy')"
   ]
  },
  {
   "cell_type": "markdown",
   "metadata": {},
   "source": [
    "Even with only 5 neurons, the random forest classifier still performs above chance (0.125). Performance saturates after around 60 neurons are included in this analysis."
   ]
  },
  {
   "cell_type": "markdown",
   "metadata": {},
   "source": [
    "In this tutorial, we learned how to decode drifting grating orientations from population firing rates in V1. Using both a linear (SVM) and nonlinear (Random Forest) classifer, we were able to achieve high levels of decoding accuracy. This only scratches the surface of population-level decoding, and raises a number of follow-up questions that can be pursued as problem sets:\n",
    "\n",
    "### Problem sets\n",
    "\n",
    "1. How does decoding accuracy change for different stimulus types (e.g. natural scenes, static gratings)?\n",
    "2. How does decoding accuracy vary across brain regions or cortical depths?\n",
    "3. On average, what is the minimum number of simultaneously recorded neurons needed to achieve high decoding performance?\n",
    "4. What is the minimum amount of time within a trial needed to achieve high decoding performance?\n",
    "5. How does decoding performance change with behavioral state (e.g. running vs. stationary)?"
   ]
  },
  {
   "cell_type": "code",
   "execution_count": null,
   "metadata": {},
   "outputs": [],
   "source": []
  }
 ],
 "metadata": {
  "interpreter": {
   "hash": "d4d1e4263499bec80672ea0156c357c1ee493ec2b1c70f0acce89fc37c4a6abe"
  },
  "kernelspec": {
   "display_name": "Python 3",
   "language": "python",
   "name": "python3"
  },
  "language_info": {
   "codemirror_mode": {
    "name": "ipython",
    "version": 3
   },
   "file_extension": ".py",
   "mimetype": "text/x-python",
   "name": "python",
   "nbconvert_exporter": "python",
   "pygments_lexer": "ipython3",
   "version": "3.8.5"
  }
 },
 "nbformat": 4,
 "nbformat_minor": 4
}
